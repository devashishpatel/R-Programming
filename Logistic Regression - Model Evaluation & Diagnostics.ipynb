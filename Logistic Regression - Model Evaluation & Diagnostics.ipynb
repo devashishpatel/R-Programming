{
 "cells": [
  {
   "cell_type": "markdown",
   "metadata": {},
   "source": [
    "## Logistic Regression - Model Evaluation & Diagnostics"
   ]
  },
  {
   "cell_type": "code",
   "execution_count": 105,
   "metadata": {
    "collapsed": false
   },
   "outputs": [],
   "source": [
    "library(AER)\n",
    "library(lmtest) #For Likelihood ratio test\n",
    "library(car)\n",
    "library(DescTools) #For PseudoR-Square\n",
    "library(ResourceSelection) #For Hosler Lemeshow Test\n",
    "library(survey) #For Wald's Test\n",
    "library(caret)\n",
    "library(Deducer)  #for ROC plot\n",
    "library(ROCR)     #for ROC plot (other way)"
   ]
  },
  {
   "cell_type": "code",
   "execution_count": 4,
   "metadata": {
    "collapsed": false
   },
   "outputs": [
    {
     "data": {
      "text/html": [
       "<table>\n",
       "<thead><tr><th></th><th scope=col>affairs</th><th scope=col>gender</th><th scope=col>age</th><th scope=col>yearsmarried</th><th scope=col>children</th><th scope=col>religiousness</th><th scope=col>education</th><th scope=col>occupation</th><th scope=col>rating</th></tr></thead>\n",
       "<tbody>\n",
       "\t<tr><th scope=row>4</th><td>0     </td><td>male  </td><td>37    </td><td>10.00 </td><td>no    </td><td>3     </td><td>18    </td><td>7     </td><td>4     </td></tr>\n",
       "\t<tr><th scope=row>5</th><td>0     </td><td>female</td><td>27    </td><td> 4.00 </td><td>no    </td><td>4     </td><td>14    </td><td>6     </td><td>4     </td></tr>\n",
       "\t<tr><th scope=row>11</th><td>0     </td><td>female</td><td>32    </td><td>15.00 </td><td>yes   </td><td>1     </td><td>12    </td><td>1     </td><td>4     </td></tr>\n",
       "\t<tr><th scope=row>16</th><td>0     </td><td>male  </td><td>57    </td><td>15.00 </td><td>yes   </td><td>5     </td><td>18    </td><td>6     </td><td>5     </td></tr>\n",
       "\t<tr><th scope=row>23</th><td>0     </td><td>male  </td><td>22    </td><td> 0.75 </td><td>no    </td><td>2     </td><td>17    </td><td>6     </td><td>3     </td></tr>\n",
       "\t<tr><th scope=row>29</th><td>0     </td><td>female</td><td>32    </td><td> 1.50 </td><td>no    </td><td>2     </td><td>17    </td><td>5     </td><td>5     </td></tr>\n",
       "</tbody>\n",
       "</table>\n"
      ],
      "text/latex": [
       "\\begin{tabular}{r|lllllllll}\n",
       "  & affairs & gender & age & yearsmarried & children & religiousness & education & occupation & rating\\\\\n",
       "\\hline\n",
       "\t4 & 0      & male   & 37     & 10.00  & no     & 3      & 18     & 7      & 4     \\\\\n",
       "\t5 & 0      & female & 27     &  4.00  & no     & 4      & 14     & 6      & 4     \\\\\n",
       "\t11 & 0      & female & 32     & 15.00  & yes    & 1      & 12     & 1      & 4     \\\\\n",
       "\t16 & 0      & male   & 57     & 15.00  & yes    & 5      & 18     & 6      & 5     \\\\\n",
       "\t23 & 0      & male   & 22     &  0.75  & no     & 2      & 17     & 6      & 3     \\\\\n",
       "\t29 & 0      & female & 32     &  1.50  & no     & 2      & 17     & 5      & 5     \\\\\n",
       "\\end{tabular}\n"
      ],
      "text/markdown": [
       "\n",
       "| <!--/--> | affairs | gender | age | yearsmarried | children | religiousness | education | occupation | rating | \n",
       "|---|---|---|---|---|---|\n",
       "| 4 | 0      | male   | 37     | 10.00  | no     | 3      | 18     | 7      | 4      | \n",
       "| 5 | 0      | female | 27     |  4.00  | no     | 4      | 14     | 6      | 4      | \n",
       "| 11 | 0      | female | 32     | 15.00  | yes    | 1      | 12     | 1      | 4      | \n",
       "| 16 | 0      | male   | 57     | 15.00  | yes    | 5      | 18     | 6      | 5      | \n",
       "| 23 | 0      | male   | 22     |  0.75  | no     | 2      | 17     | 6      | 3      | \n",
       "| 29 | 0      | female | 32     |  1.50  | no     | 2      | 17     | 5      | 5      | \n",
       "\n",
       "\n"
      ],
      "text/plain": [
       "   affairs gender age yearsmarried children religiousness education occupation\n",
       "4  0       male   37  10.00        no       3             18        7         \n",
       "5  0       female 27   4.00        no       4             14        6         \n",
       "11 0       female 32  15.00        yes      1             12        1         \n",
       "16 0       male   57  15.00        yes      5             18        6         \n",
       "23 0       male   22   0.75        no       2             17        6         \n",
       "29 0       female 32   1.50        no       2             17        5         \n",
       "   rating\n",
       "4  4     \n",
       "5  4     \n",
       "11 4     \n",
       "16 5     \n",
       "23 3     \n",
       "29 5     "
      ]
     },
     "metadata": {},
     "output_type": "display_data"
    },
    {
     "data": {
      "text/html": [
       "<table>\n",
       "<thead><tr><th></th><th scope=col>affairs</th><th scope=col>gender</th><th scope=col>age</th><th scope=col>yearsmarried</th><th scope=col>children</th><th scope=col>religiousness</th><th scope=col>education</th><th scope=col>occupation</th><th scope=col>rating</th></tr></thead>\n",
       "<tbody>\n",
       "\t<tr><th scope=row>1935</th><td>7     </td><td>male  </td><td>47    </td><td>15.0  </td><td>yes   </td><td>3     </td><td>16    </td><td>4     </td><td>2     </td></tr>\n",
       "\t<tr><th scope=row>1938</th><td>1     </td><td>male  </td><td>22    </td><td> 1.5  </td><td>yes   </td><td>1     </td><td>12    </td><td>2     </td><td>5     </td></tr>\n",
       "\t<tr><th scope=row>1941</th><td>7     </td><td>female</td><td>32    </td><td>10.0  </td><td>yes   </td><td>2     </td><td>18    </td><td>5     </td><td>4     </td></tr>\n",
       "\t<tr><th scope=row>1954</th><td>2     </td><td>male  </td><td>32    </td><td>10.0  </td><td>yes   </td><td>2     </td><td>17    </td><td>6     </td><td>5     </td></tr>\n",
       "\t<tr><th scope=row>1959</th><td>2     </td><td>male  </td><td>22    </td><td> 7.0  </td><td>yes   </td><td>3     </td><td>18    </td><td>6     </td><td>2     </td></tr>\n",
       "\t<tr><th scope=row>9010</th><td>1     </td><td>female</td><td>32    </td><td>15.0  </td><td>yes   </td><td>3     </td><td>14    </td><td>1     </td><td>5     </td></tr>\n",
       "</tbody>\n",
       "</table>\n"
      ],
      "text/latex": [
       "\\begin{tabular}{r|lllllllll}\n",
       "  & affairs & gender & age & yearsmarried & children & religiousness & education & occupation & rating\\\\\n",
       "\\hline\n",
       "\t1935 & 7      & male   & 47     & 15.0   & yes    & 3      & 16     & 4      & 2     \\\\\n",
       "\t1938 & 1      & male   & 22     &  1.5   & yes    & 1      & 12     & 2      & 5     \\\\\n",
       "\t1941 & 7      & female & 32     & 10.0   & yes    & 2      & 18     & 5      & 4     \\\\\n",
       "\t1954 & 2      & male   & 32     & 10.0   & yes    & 2      & 17     & 6      & 5     \\\\\n",
       "\t1959 & 2      & male   & 22     &  7.0   & yes    & 3      & 18     & 6      & 2     \\\\\n",
       "\t9010 & 1      & female & 32     & 15.0   & yes    & 3      & 14     & 1      & 5     \\\\\n",
       "\\end{tabular}\n"
      ],
      "text/markdown": [
       "\n",
       "| <!--/--> | affairs | gender | age | yearsmarried | children | religiousness | education | occupation | rating | \n",
       "|---|---|---|---|---|---|\n",
       "| 1935 | 7      | male   | 47     | 15.0   | yes    | 3      | 16     | 4      | 2      | \n",
       "| 1938 | 1      | male   | 22     |  1.5   | yes    | 1      | 12     | 2      | 5      | \n",
       "| 1941 | 7      | female | 32     | 10.0   | yes    | 2      | 18     | 5      | 4      | \n",
       "| 1954 | 2      | male   | 32     | 10.0   | yes    | 2      | 17     | 6      | 5      | \n",
       "| 1959 | 2      | male   | 22     |  7.0   | yes    | 3      | 18     | 6      | 2      | \n",
       "| 9010 | 1      | female | 32     | 15.0   | yes    | 3      | 14     | 1      | 5      | \n",
       "\n",
       "\n"
      ],
      "text/plain": [
       "     affairs gender age yearsmarried children religiousness education\n",
       "1935 7       male   47  15.0         yes      3             16       \n",
       "1938 1       male   22   1.5         yes      1             12       \n",
       "1941 7       female 32  10.0         yes      2             18       \n",
       "1954 2       male   32  10.0         yes      2             17       \n",
       "1959 2       male   22   7.0         yes      3             18       \n",
       "9010 1       female 32  15.0         yes      3             14       \n",
       "     occupation rating\n",
       "1935 4          2     \n",
       "1938 2          5     \n",
       "1941 5          4     \n",
       "1954 6          5     \n",
       "1959 6          2     \n",
       "9010 1          5     "
      ]
     },
     "metadata": {},
     "output_type": "display_data"
    },
    {
     "name": "stdout",
     "output_type": "stream",
     "text": [
      "'data.frame':\t601 obs. of  9 variables:\n",
      " $ affairs      : num  0 0 0 0 0 0 0 0 0 0 ...\n",
      " $ gender       : Factor w/ 2 levels \"female\",\"male\": 2 1 1 2 2 1 1 2 1 2 ...\n",
      " $ age          : num  37 27 32 57 22 32 22 57 32 22 ...\n",
      " $ yearsmarried : num  10 4 15 15 0.75 1.5 0.75 15 15 1.5 ...\n",
      " $ children     : Factor w/ 2 levels \"no\",\"yes\": 1 1 2 2 1 1 1 2 2 1 ...\n",
      " $ religiousness: int  3 4 1 5 2 2 2 2 4 4 ...\n",
      " $ education    : num  18 14 12 18 17 17 12 14 16 14 ...\n",
      " $ occupation   : int  7 6 1 6 6 5 1 4 1 4 ...\n",
      " $ rating       : int  4 4 4 5 3 5 3 4 2 5 ...\n"
     ]
    },
    {
     "data": {
      "text/plain": [
       "    affairs          gender         age         yearsmarried    children \n",
       " Min.   : 0.000   female:315   Min.   :17.50   Min.   : 0.125   no :171  \n",
       " 1st Qu.: 0.000   male  :286   1st Qu.:27.00   1st Qu.: 4.000   yes:430  \n",
       " Median : 0.000                Median :32.00   Median : 7.000            \n",
       " Mean   : 1.456                Mean   :32.49   Mean   : 8.178            \n",
       " 3rd Qu.: 0.000                3rd Qu.:37.00   3rd Qu.:15.000            \n",
       " Max.   :12.000                Max.   :57.00   Max.   :15.000            \n",
       " religiousness     education       occupation        rating     \n",
       " Min.   :1.000   Min.   : 9.00   Min.   :1.000   Min.   :1.000  \n",
       " 1st Qu.:2.000   1st Qu.:14.00   1st Qu.:3.000   1st Qu.:3.000  \n",
       " Median :3.000   Median :16.00   Median :5.000   Median :4.000  \n",
       " Mean   :3.116   Mean   :16.17   Mean   :4.195   Mean   :3.932  \n",
       " 3rd Qu.:4.000   3rd Qu.:18.00   3rd Qu.:6.000   3rd Qu.:5.000  \n",
       " Max.   :5.000   Max.   :20.00   Max.   :7.000   Max.   :5.000  "
      ]
     },
     "metadata": {},
     "output_type": "display_data"
    }
   ],
   "source": [
    "data(Affairs, package = \"AER\")\n",
    "head(Affairs)\n",
    "tail(Affairs)\n",
    "str(Affairs)\n",
    "summary(Affairs)"
   ]
  },
  {
   "cell_type": "code",
   "execution_count": 6,
   "metadata": {
    "collapsed": false
   },
   "outputs": [],
   "source": [
    "#Creating a new binary variable to classify where a person had Affairs or not\n",
    "Affairs$ynaffair[Affairs$affair == 0 ] <- 0\n",
    "Affairs$ynaffair[Affairs$affair > 0 ] <- 1"
   ]
  },
  {
   "cell_type": "code",
   "execution_count": 7,
   "metadata": {
    "collapsed": false
   },
   "outputs": [
    {
     "name": "stdout",
     "output_type": "stream",
     "text": [
      "'data.frame':\t601 obs. of  10 variables:\n",
      " $ affairs      : num  0 0 0 0 0 0 0 0 0 0 ...\n",
      " $ gender       : Factor w/ 2 levels \"female\",\"male\": 2 1 1 2 2 1 1 2 1 2 ...\n",
      " $ age          : num  37 27 32 57 22 32 22 57 32 22 ...\n",
      " $ yearsmarried : num  10 4 15 15 0.75 1.5 0.75 15 15 1.5 ...\n",
      " $ children     : Factor w/ 2 levels \"no\",\"yes\": 1 1 2 2 1 1 1 2 2 1 ...\n",
      " $ religiousness: int  3 4 1 5 2 2 2 2 4 4 ...\n",
      " $ education    : num  18 14 12 18 17 17 12 14 16 14 ...\n",
      " $ occupation   : int  7 6 1 6 6 5 1 4 1 4 ...\n",
      " $ rating       : int  4 4 4 5 3 5 3 4 2 5 ...\n",
      " $ ynaffair     : Factor w/ 2 levels \"No\",\"Yes\": 1 1 1 1 1 1 1 1 1 1 ...\n"
     ]
    },
    {
     "data": {
      "text/plain": [
       "\n",
       " No Yes \n",
       "451 150 "
      ]
     },
     "metadata": {},
     "output_type": "display_data"
    }
   ],
   "source": [
    "Affairs$ynaffair <- factor(Affairs$ynaffair , level = c(0,1) , labels = c(\"No\",\"Yes\"))\n",
    "str(Affairs)\n",
    "table(Affairs$ynaffair)"
   ]
  },
  {
   "cell_type": "code",
   "execution_count": 11,
   "metadata": {
    "collapsed": false
   },
   "outputs": [
    {
     "data": {
      "text/plain": [
       "\n",
       "Call:\n",
       "glm(formula = ynaffair ~ gender + age + yearsmarried + children + \n",
       "    religiousness + education + occupation + rating, family = binomial(), \n",
       "    data = Affairs)\n",
       "\n",
       "Deviance Residuals: \n",
       "    Min       1Q   Median       3Q      Max  \n",
       "-1.5713  -0.7499  -0.5690  -0.2539   2.5191  \n",
       "\n",
       "Coefficients:\n",
       "              Estimate Std. Error z value Pr(>|z|)    \n",
       "(Intercept)    1.37726    0.88776   1.551 0.120807    \n",
       "gendermale     0.28029    0.23909   1.172 0.241083    \n",
       "age           -0.04426    0.01825  -2.425 0.015301 *  \n",
       "yearsmarried   0.09477    0.03221   2.942 0.003262 ** \n",
       "childrenyes    0.39767    0.29151   1.364 0.172508    \n",
       "religiousness -0.32472    0.08975  -3.618 0.000297 ***\n",
       "education      0.02105    0.05051   0.417 0.676851    \n",
       "occupation     0.03092    0.07178   0.431 0.666630    \n",
       "rating        -0.46845    0.09091  -5.153 2.56e-07 ***\n",
       "---\n",
       "Signif. codes:  0 '***' 0.001 '**' 0.01 '*' 0.05 '.' 0.1 ' ' 1\n",
       "\n",
       "(Dispersion parameter for binomial family taken to be 1)\n",
       "\n",
       "    Null deviance: 675.38  on 600  degrees of freedom\n",
       "Residual deviance: 609.51  on 592  degrees of freedom\n",
       "AIC: 627.51\n",
       "\n",
       "Number of Fisher Scoring iterations: 4\n"
      ]
     },
     "metadata": {},
     "output_type": "display_data"
    }
   ],
   "source": [
    "#Building Full Logistic Regression Model\n",
    "fit.full <- glm(ynaffair ~ gender + age + yearsmarried + children + religiousness + education + occupation + rating , \n",
    "                data = Affairs , family = binomial() )\n",
    "summary(fit.full)"
   ]
  },
  {
   "cell_type": "code",
   "execution_count": 12,
   "metadata": {
    "collapsed": false
   },
   "outputs": [
    {
     "data": {
      "text/plain": [
       "\n",
       "Call:\n",
       "glm(formula = ynaffair ~ age + yearsmarried + religiousness + \n",
       "    rating, family = binomial(), data = Affairs)\n",
       "\n",
       "Deviance Residuals: \n",
       "    Min       1Q   Median       3Q      Max  \n",
       "-1.6278  -0.7550  -0.5701  -0.2624   2.3998  \n",
       "\n",
       "Coefficients:\n",
       "              Estimate Std. Error z value Pr(>|z|)    \n",
       "(Intercept)    1.93083    0.61032   3.164 0.001558 ** \n",
       "age           -0.03527    0.01736  -2.032 0.042127 *  \n",
       "yearsmarried   0.10062    0.02921   3.445 0.000571 ***\n",
       "religiousness -0.32902    0.08945  -3.678 0.000235 ***\n",
       "rating        -0.46136    0.08884  -5.193 2.06e-07 ***\n",
       "---\n",
       "Signif. codes:  0 '***' 0.001 '**' 0.01 '*' 0.05 '.' 0.1 ' ' 1\n",
       "\n",
       "(Dispersion parameter for binomial family taken to be 1)\n",
       "\n",
       "    Null deviance: 675.38  on 600  degrees of freedom\n",
       "Residual deviance: 615.36  on 596  degrees of freedom\n",
       "AIC: 625.36\n",
       "\n",
       "Number of Fisher Scoring iterations: 4\n"
      ]
     },
     "metadata": {},
     "output_type": "display_data"
    }
   ],
   "source": [
    "#Building Reduced Logistic Regression Model with only the significant variables\n",
    "fit.reduced <- glm(ynaffair ~ age + yearsmarried + religiousness + rating , data = Affairs , family = binomial() )\n",
    "summary(fit.reduced)"
   ]
  },
  {
   "cell_type": "code",
   "execution_count": 16,
   "metadata": {
    "collapsed": false
   },
   "outputs": [
    {
     "data": {
      "text/html": [
       "<table>\n",
       "<thead><tr><th scope=col>Resid. Df</th><th scope=col>Resid. Dev</th><th scope=col>Df</th><th scope=col>Deviance</th><th scope=col>Pr(&gt;Chi)</th></tr></thead>\n",
       "<tbody>\n",
       "\t<tr><td>592      </td><td>609.5104 </td><td>NA       </td><td>       NA</td><td>       NA</td></tr>\n",
       "\t<tr><td>596      </td><td>615.3578 </td><td>-4       </td><td>-5.847418</td><td>0.2108367</td></tr>\n",
       "</tbody>\n",
       "</table>\n"
      ],
      "text/latex": [
       "\\begin{tabular}{r|lllll}\n",
       " Resid. Df & Resid. Dev & Df & Deviance & Pr(>Chi)\\\\\n",
       "\\hline\n",
       "\t 592       & 609.5104  & NA        &        NA &        NA\\\\\n",
       "\t 596       & 615.3578  & -4        & -5.847418 & 0.2108367\\\\\n",
       "\\end{tabular}\n"
      ],
      "text/markdown": [
       "\n",
       "Resid. Df | Resid. Dev | Df | Deviance | Pr(>Chi) | \n",
       "|---|---|\n",
       "| 592       | 609.5104  | NA        |        NA |        NA | \n",
       "| 596       | 615.3578  | -4        | -5.847418 | 0.2108367 | \n",
       "\n",
       "\n"
      ],
      "text/plain": [
       "  Resid. Df Resid. Dev Df Deviance  Pr(>Chi) \n",
       "1 592       609.5104   NA        NA        NA\n",
       "2 596       615.3578   -4 -5.847418 0.2108367"
      ]
     },
     "metadata": {},
     "output_type": "display_data"
    }
   ],
   "source": [
    "#Comparing the two models:\n",
    "anova(fit.full , fit.reduced , test = \"Chisq\")"
   ]
  },
  {
   "cell_type": "markdown",
   "metadata": {},
   "source": [
    "Since the p value is not significant, so there is no difference between the two models, and we go with the model with reduced parameters and lower AIC.\n",
    "\n",
    "## Logistic Regression Diagnostics\n",
    "** Model Validity and Goodness of Fit **\n",
    "    * Likelihood Ratio Test\n",
    "    * Pseudo R-Square\n",
    "    * Hosmer Lemeshow Goodness of Fit\n",
    "** Statistical Test for Individual variable **\n",
    "    * Wald's Test\n",
    "** Assesing variable Importance **\n",
    "    * Look at the abslute value of the t-statistic for each model parameter using the function varImp()\n",
    "** Model Acceptance **\n",
    "    * Area under ROC Curve\n",
    "\n",
    "\n",
    "### Likelihood Ratio Test\n",
    "Logistic regression is said to provide a better fit to the data if it demonstrates an improvement over a model with fewer predictors. This is performed using the likelihood ratio test, which compares the likelihood of the data under the full model against the likelihood of the data under a model with fewer predictors. \n",
    "\n",
    "Removing predictor variables from a model will almost always make the model fit less well (i.e. a model will have a lower log likelihood), but it is necessary to test whether the observed difference in model fit is statistically significant. \n",
    "\n",
    "Null Hypothesis holds that the reduced model is true, a p-value for the overall model fit statistic that is less than 0.05 would compel us to reject the null hypothesis. It would provide evidence against the reduced model in favor of the current model. \n",
    "\n",
    "The likelihood ratio test can be performed in R using:\n",
    "    * anova() function in base package with test = \"Chisq\"\n",
    "    * lrtest() function from the lmtest package "
   ]
  },
  {
   "cell_type": "code",
   "execution_count": 19,
   "metadata": {
    "collapsed": false
   },
   "outputs": [
    {
     "data": {
      "text/html": [
       "<table>\n",
       "<thead><tr><th scope=col>Resid. Df</th><th scope=col>Resid. Dev</th><th scope=col>Df</th><th scope=col>Deviance</th><th scope=col>Pr(&gt;Chi)</th></tr></thead>\n",
       "<tbody>\n",
       "\t<tr><td>592      </td><td>609.5104 </td><td>NA       </td><td>       NA</td><td>       NA</td></tr>\n",
       "\t<tr><td>596      </td><td>615.3578 </td><td>-4       </td><td>-5.847418</td><td>0.2108367</td></tr>\n",
       "</tbody>\n",
       "</table>\n"
      ],
      "text/latex": [
       "\\begin{tabular}{r|lllll}\n",
       " Resid. Df & Resid. Dev & Df & Deviance & Pr(>Chi)\\\\\n",
       "\\hline\n",
       "\t 592       & 609.5104  & NA        &        NA &        NA\\\\\n",
       "\t 596       & 615.3578  & -4        & -5.847418 & 0.2108367\\\\\n",
       "\\end{tabular}\n"
      ],
      "text/markdown": [
       "\n",
       "Resid. Df | Resid. Dev | Df | Deviance | Pr(>Chi) | \n",
       "|---|---|\n",
       "| 592       | 609.5104  | NA        |        NA |        NA | \n",
       "| 596       | 615.3578  | -4        | -5.847418 | 0.2108367 | \n",
       "\n",
       "\n"
      ],
      "text/plain": [
       "  Resid. Df Resid. Dev Df Deviance  Pr(>Chi) \n",
       "1 592       609.5104   NA        NA        NA\n",
       "2 596       615.3578   -4 -5.847418 0.2108367"
      ]
     },
     "metadata": {},
     "output_type": "display_data"
    },
    {
     "data": {
      "text/html": [
       "<table>\n",
       "<thead><tr><th scope=col>#Df</th><th scope=col>LogLik</th><th scope=col>Df</th><th scope=col>Chisq</th><th scope=col>Pr(&gt;Chisq)</th></tr></thead>\n",
       "<tbody>\n",
       "\t<tr><td>9        </td><td>-304.7552</td><td>NA       </td><td>      NA </td><td>       NA</td></tr>\n",
       "\t<tr><td>5        </td><td>-307.6789</td><td>-4       </td><td>5.847418 </td><td>0.2108367</td></tr>\n",
       "</tbody>\n",
       "</table>\n"
      ],
      "text/latex": [
       "\\begin{tabular}{r|lllll}\n",
       " \\#Df & LogLik & Df & Chisq & Pr(>Chisq)\\\\\n",
       "\\hline\n",
       "\t 9         & -304.7552 & NA        &       NA  &        NA\\\\\n",
       "\t 5         & -307.6789 & -4        & 5.847418  & 0.2108367\\\\\n",
       "\\end{tabular}\n"
      ],
      "text/markdown": [
       "\n",
       "#Df | LogLik | Df | Chisq | Pr(>Chisq) | \n",
       "|---|---|\n",
       "| 9         | -304.7552 | NA        |       NA  |        NA | \n",
       "| 5         | -307.6789 | -4        | 5.847418  | 0.2108367 | \n",
       "\n",
       "\n"
      ],
      "text/plain": [
       "  #Df LogLik    Df Chisq    Pr(>Chisq)\n",
       "1 9   -304.7552 NA       NA        NA \n",
       "2 5   -307.6789 -4 5.847418 0.2108367 "
      ]
     },
     "metadata": {},
     "output_type": "display_data"
    }
   ],
   "source": [
    "# Likelihood Ratio Test\n",
    "anova(fit.full,fit.reduced,test = \"Chisq\")\n",
    "lrtest(fit.full,fit.reduced)"
   ]
  },
  {
   "cell_type": "markdown",
   "metadata": {},
   "source": [
    "### Pseudo R-Square:\n",
    "Unlike linear regression with ordinary least squares estimation, there is no R2 statistic which explains the proportion of variance in the dependent variable that is explained by the predictors. However, there are a number of pseudo R2 metrics. They indicate the strength of the relationship.\n",
    "\n",
    "** McFadden’s R2 ** - Defined as 1−[LL(LM)/LL(L0)] where LL(LM) is the log likelihood value for the fitted model and LL(L0) is the log likelihood for the null model with only an intercept as a predictor. The measure ranges from 0 to just under 1, with values closer to zero indicating that the model has no predictive power.\n",
    "\n",
    "** Cox and Snell R2 ** - Defined as 1−[LL(L0)/LL(LM)]^(2/n) where n is the number of observations. However Cox & Snell R2 cannot reach 1\n",
    "\n",
    "** Nagerkerke R2 ** - Defined as { 1−[LL(L0)/LL(LM)]^(2/n) / 1 - [LL(L0)]^(2/n)} The range of this model is from 0 to 1\n",
    "\n",
    "All Pseudo R-Square values are interpreted as reflecting the amount of variation in Y accounted by the Logistic model with 1.0 indicating the perfect model fit."
   ]
  },
  {
   "cell_type": "code",
   "execution_count": 25,
   "metadata": {
    "collapsed": false
   },
   "outputs": [
    {
     "data": {
      "text/html": [
       "<dl class=dl-horizontal>\n",
       "\t<dt>McFadden</dt>\n",
       "\t\t<dd>0.097525635075865</dd>\n",
       "\t<dt>McFaddenAdj</dt>\n",
       "\t\t<dd>0.0708738532457898</dd>\n",
       "\t<dt>CoxSnell</dt>\n",
       "\t\t<dd>0.103802939879341</dd>\n",
       "\t<dt>Nagelkerke</dt>\n",
       "\t\t<dd>0.15379507202715</dd>\n",
       "\t<dt>AldrichNelson</dt>\n",
       "\t\t<dd>0.0322389018777463</dd>\n",
       "\t<dt>VeallZimmermann</dt>\n",
       "\t\t<dd>0.126620417573836</dd>\n",
       "\t<dt>Effron</dt>\n",
       "\t\t<dd>0.116141345089674</dd>\n",
       "\t<dt>McKelveyZavoina</dt>\n",
       "\t\t<dd>0.167468086154454</dd>\n",
       "\t<dt>Tjur</dt>\n",
       "\t\t<dd>0.113612411783608</dd>\n",
       "\t<dt>AIC</dt>\n",
       "\t\t<dd>627.510413682859</dd>\n",
       "\t<dt>BIC</dt>\n",
       "\t\t<dd>667.097768093676</dd>\n",
       "\t<dt>logLik</dt>\n",
       "\t\t<dd>-304.755206841429</dd>\n",
       "\t<dt>logLik0</dt>\n",
       "\t\t<dd>-337.688491425513</dd>\n",
       "\t<dt>G2</dt>\n",
       "\t\t<dd>65.866569168168</dd>\n",
       "</dl>\n"
      ],
      "text/latex": [
       "\\begin{description*}\n",
       "\\item[McFadden] 0.097525635075865\n",
       "\\item[McFaddenAdj] 0.0708738532457898\n",
       "\\item[CoxSnell] 0.103802939879341\n",
       "\\item[Nagelkerke] 0.15379507202715\n",
       "\\item[AldrichNelson] 0.0322389018777463\n",
       "\\item[VeallZimmermann] 0.126620417573836\n",
       "\\item[Effron] 0.116141345089674\n",
       "\\item[McKelveyZavoina] 0.167468086154454\n",
       "\\item[Tjur] 0.113612411783608\n",
       "\\item[AIC] 627.510413682859\n",
       "\\item[BIC] 667.097768093676\n",
       "\\item[logLik] -304.755206841429\n",
       "\\item[logLik0] -337.688491425513\n",
       "\\item[G2] 65.866569168168\n",
       "\\end{description*}\n"
      ],
      "text/markdown": [
       "McFadden\n",
       ":   0.097525635075865McFaddenAdj\n",
       ":   0.0708738532457898CoxSnell\n",
       ":   0.103802939879341Nagelkerke\n",
       ":   0.15379507202715AldrichNelson\n",
       ":   0.0322389018777463VeallZimmermann\n",
       ":   0.126620417573836Effron\n",
       ":   0.116141345089674McKelveyZavoina\n",
       ":   0.167468086154454Tjur\n",
       ":   0.113612411783608AIC\n",
       ":   627.510413682859BIC\n",
       ":   667.097768093676logLik\n",
       ":   -304.755206841429logLik0\n",
       ":   -337.688491425513G2\n",
       ":   65.866569168168\n",
       "\n"
      ],
      "text/plain": [
       "       McFadden     McFaddenAdj        CoxSnell      Nagelkerke   AldrichNelson \n",
       "     0.09752564      0.07087385      0.10380294      0.15379507      0.03223890 \n",
       "VeallZimmermann          Effron McKelveyZavoina            Tjur             AIC \n",
       "     0.12662042      0.11614135      0.16746809      0.11361241    627.51041368 \n",
       "            BIC          logLik         logLik0              G2 \n",
       "   667.09776809   -304.75520684   -337.68849143     65.86656917 "
      ]
     },
     "metadata": {},
     "output_type": "display_data"
    }
   ],
   "source": [
    "PseudoR2(fit.full , which = \"all\")"
   ]
  },
  {
   "cell_type": "markdown",
   "metadata": {},
   "source": [
    "### Hosmer Lemeshow Goodness of Fit Test \n",
    "It is computed on data after the observations have been segmented into groups based on having similar predicted probabilities. It examines whether the observed proportions of events are similar to the predicted probabilities of occurence in subgroups of the data set using a pearson chi square test. Small values with large p-values indicate a good fit to the data while large values with p-values below 0.05 indicate a poor fit. The null hypothesis holds that the model fits the data.\n",
    "\n",
    "For our data, the p-value is large so we accept the Null Hypothesis that the model fits the data."
   ]
  },
  {
   "cell_type": "code",
   "execution_count": 38,
   "metadata": {
    "collapsed": false
   },
   "outputs": [
    {
     "data": {
      "text/plain": [
       "\n",
       "\tHosmer and Lemeshow goodness of fit (GOF) test\n",
       "\n",
       "data:  Affairs$ynaffair_binary, fitted(fit.reduced)\n",
       "X-squared = 6.4279, df = 8, p-value = 0.5994\n"
      ]
     },
     "metadata": {},
     "output_type": "display_data"
    }
   ],
   "source": [
    "#Creating a binary variable to do the test, as the Hoslem test cannot be done on factors\n",
    "#Affairs <- Affairs[,-11]\n",
    "Affairs$ynaffair_binary[Affairs$affair > 0] = 1\n",
    "Affairs$ynaffair_binary[Affairs$affair == 0] = 0\n",
    "hoslem.test(Affairs$ynaffair_binary, fitted(fit.reduced), g=10)"
   ]
  },
  {
   "cell_type": "markdown",
   "metadata": {},
   "source": [
    "### Wald's Test\n",
    "\n",
    "A wald test is used to evaluate the statistical significance of each coefficient in the model and is calculated by taking the ratio of the square of the regression coefficient to the square of the standard error of the coefficient.\n",
    "\n",
    "Null hypothesis: The coefficient of an independent variable in the model is not significantly different from zero. \n",
    "If the test failts reject the null hypothesis (i.e. p > 0.05 ), this suggests that removing the variable from the model will not substantially harm the fit of that model."
   ]
  },
  {
   "cell_type": "code",
   "execution_count": 55,
   "metadata": {
    "collapsed": false
   },
   "outputs": [
    {
     "data": {
      "text/plain": [
       "Wald test for rating\n",
       " in glm(formula = ynaffair ~ age + yearsmarried + religiousness + \n",
       "    rating, family = binomial(), data = Affairs)\n",
       "F =  26.97203  on  1  and  596  df: p= 2.8372e-07 "
      ]
     },
     "metadata": {},
     "output_type": "display_data"
    }
   ],
   "source": [
    "regTermTest(fit.reduced,\"rating\")"
   ]
  },
  {
   "cell_type": "code",
   "execution_count": 54,
   "metadata": {
    "collapsed": false
   },
   "outputs": [
    {
     "data": {
      "text/plain": [
       "Wald test for education\n",
       " in glm(formula = ynaffair ~ gender + age + yearsmarried + children + \n",
       "    religiousness + education + occupation + rating, family = binomial(), \n",
       "    data = Affairs)\n",
       "F =  0.1736919  on  1  and  592  df: p= 0.677 "
      ]
     },
     "metadata": {},
     "output_type": "display_data"
    }
   ],
   "source": [
    "regTermTest(fit.full,\"education\")"
   ]
  },
  {
   "cell_type": "markdown",
   "metadata": {},
   "source": [
    "Since the p-value is less than 0.05 we keep the variable. For education, the p-value is greater than 0.05 so we remove the variable from the full model\n",
    "\n",
    "### Assesing Variable Importance\n",
    "To assess the relative importance of individual predictors in the model, we can also look at the absolute value of the t-statistic for each model parameter. This can be done by:\n",
    "    * Observing z-value in the summary of the logistic regression model\n",
    "    * varImp() in the caret package "
   ]
  },
  {
   "cell_type": "code",
   "execution_count": 60,
   "metadata": {
    "collapsed": false
   },
   "outputs": [
    {
     "data": {
      "text/html": [
       "<table>\n",
       "<thead><tr><th></th><th scope=col>Overall</th></tr></thead>\n",
       "<tbody>\n",
       "\t<tr><th scope=row>age</th><td>2.032261</td></tr>\n",
       "\t<tr><th scope=row>yearsmarried</th><td>3.444792</td></tr>\n",
       "\t<tr><th scope=row>religiousness</th><td>3.678276</td></tr>\n",
       "\t<tr><th scope=row>rating</th><td>5.193460</td></tr>\n",
       "</tbody>\n",
       "</table>\n"
      ],
      "text/latex": [
       "\\begin{tabular}{r|l}\n",
       "  & Overall\\\\\n",
       "\\hline\n",
       "\tage & 2.032261\\\\\n",
       "\tyearsmarried & 3.444792\\\\\n",
       "\treligiousness & 3.678276\\\\\n",
       "\trating & 5.193460\\\\\n",
       "\\end{tabular}\n"
      ],
      "text/markdown": [
       "\n",
       "| <!--/--> | Overall | \n",
       "|---|---|---|---|\n",
       "| age | 2.032261 | \n",
       "| yearsmarried | 3.444792 | \n",
       "| religiousness | 3.678276 | \n",
       "| rating | 5.193460 | \n",
       "\n",
       "\n"
      ],
      "text/plain": [
       "              Overall \n",
       "age           2.032261\n",
       "yearsmarried  3.444792\n",
       "religiousness 3.678276\n",
       "rating        5.193460"
      ]
     },
     "metadata": {},
     "output_type": "display_data"
    }
   ],
   "source": [
    "varImp(fit.reduced)"
   ]
  },
  {
   "cell_type": "markdown",
   "metadata": {},
   "source": [
    "### Area under ROC Curve\n",
    "ROC Curve plots Sensitivity vs (1-Specificity) i.e. it plots the true positive ratio against the false positive ratio and compares it with random classification. Higher the area under the ROC Curve, better is the prediction ability.\n",
    "General Rule for Model acceptance is:\n",
    "* If AUC <= 0.5 , Then No discrimination \n",
    "* If 0.7 <= AUC <= 0.8 , Then Acceptable discrimination\n",
    "* If 0.8 <= AUC <= 0.9 , Then Excellent discrimination\n",
    "* If AUC > 0.9 , Then Outstanding discrimination\n",
    "\n",
    "For our model the AUC is 0.7 which is acceptable discrimination."
   ]
  },
  {
   "cell_type": "code",
   "execution_count": 87,
   "metadata": {
    "collapsed": false
   },
   "outputs": [
    {
     "data": {},
     "metadata": {},
     "output_type": "display_data"
    },
    {
     "data": {
      "image/png": "[encoded data removed]",
      "text/plain": [
       "plot without title"
      ]
     },
     "metadata": {},
     "output_type": "display_data"
    }
   ],
   "source": [
    "options(repr.plot.width=4, repr.plot.height=4)\n",
    "rocplot(fit.reduced)"
   ]
  },
  {
   "cell_type": "markdown",
   "metadata": {},
   "source": [
    "## Computing optimal Cut-off Probability\n",
    "We compute the Optimal Cut-off based on:\n",
    "* Youden's Index - Assuming positive and Negative Classifications are equally important\n",
    "* Cost based Optimal Cut-off - Assuming positive and Negative classifications are not equally important\n",
    "\n",
    "Note: Accuracy is not used to compute the Optimal Cut-off due to the Accuracy paradox.\n",
    "\n",
    "### Youden's Index:\n",
    "It gives the performance of a diagnostic test. Its value ranges from -1 to 1, and has a zero value when a diagnostic test gives the same proportion of positive results for groups with and without the test, i.e the test is useless. A value of 1 indicates that there are no false positives or false negatives, i.e. the test is perfect. The index gives equal weight to false positive and false negative values, so all tests with the same value of the index give the same proportion of total misclassified results.\n",
    "\n",
    "Youden's Index J(p) = [ Sensitivity(p) + Specificity(p) - 1 ] where p is the cut-off probability\n",
    "\n",
    "To identify the optimal Cut-off probability, we maximize the Youden's Index"
   ]
  },
  {
   "cell_type": "code",
   "execution_count": 104,
   "metadata": {
    "collapsed": false
   },
   "outputs": [
    {
     "data": {
      "text/html": [
       "<table>\n",
       "<thead><tr><th scope=col>cutoff</th><th scope=col>P10</th><th scope=col>P01</th><th scope=col>P11</th><th scope=col>P00</th><th scope=col>youden.index</th></tr></thead>\n",
       "<tbody>\n",
       "\t<tr><td>0.05      </td><td>0.00000000</td><td>0.99556541</td><td>1.0000000 </td><td>0.00443459</td><td>0.00443459</td></tr>\n",
       "\t<tr><td>0.10      </td><td>0.02666667</td><td>0.90022173</td><td>0.9733333 </td><td>0.09977827</td><td>0.07311160</td></tr>\n",
       "\t<tr><td>0.15      </td><td>0.12666667</td><td>0.66740576</td><td>0.8733333 </td><td>0.33259424</td><td>0.20592757</td></tr>\n",
       "\t<tr><td>0.20      </td><td>0.24000000</td><td>0.47450111</td><td>0.7600000 </td><td>0.52549889</td><td>0.28549889</td></tr>\n",
       "\t<tr><td>0.25      </td><td>0.36666667</td><td>0.33259424</td><td>0.6333333 </td><td>0.66740576</td><td>0.30073910</td></tr>\n",
       "\t<tr><td>0.30      </td><td>0.46000000</td><td>0.23059867</td><td>0.5400000 </td><td>0.76940133</td><td>0.30940133</td></tr>\n",
       "\t<tr><td>0.35      </td><td>0.58666667</td><td>0.15742794</td><td>0.4133333 </td><td>0.84257206</td><td>0.25590540</td></tr>\n",
       "\t<tr><td>0.40      </td><td>0.70000000</td><td>0.08647450</td><td>0.3000000 </td><td>0.91352550</td><td>0.21352550</td></tr>\n",
       "\t<tr><td>0.45      </td><td>0.76000000</td><td>0.06651885</td><td>0.2400000 </td><td>0.93348115</td><td>0.17348115</td></tr>\n",
       "\t<tr><td>0.50      </td><td>0.85333333</td><td>0.04212860</td><td>0.1466667 </td><td>0.95787140</td><td>0.10453806</td></tr>\n",
       "\t<tr><td>0.55      </td><td>0.89333333</td><td>0.01552106</td><td>0.1066667 </td><td>0.98447894</td><td>0.09114560</td></tr>\n",
       "\t<tr><td>0.60      </td><td>0.96000000</td><td>0.00886918</td><td>0.0400000 </td><td>0.99113082</td><td>0.03113082</td></tr>\n",
       "\t<tr><td>0.65      </td><td>0.98000000</td><td>0.00443459</td><td>0.0200000 </td><td>0.99556541</td><td>0.01556541</td></tr>\n",
       "\t<tr><td>0.70      </td><td>0.98000000</td><td>0.00443459</td><td>0.0200000 </td><td>0.99556541</td><td>0.01556541</td></tr>\n",
       "\t<tr><td>0.75      </td><td>        NA</td><td>        NA</td><td>       NA </td><td>        NA</td><td>        NA</td></tr>\n",
       "\t<tr><td>0.80      </td><td>        NA</td><td>        NA</td><td>       NA </td><td>        NA</td><td>        NA</td></tr>\n",
       "\t<tr><td>0.85      </td><td>        NA</td><td>        NA</td><td>       NA </td><td>        NA</td><td>        NA</td></tr>\n",
       "\t<tr><td>0.90      </td><td>        NA</td><td>        NA</td><td>       NA </td><td>        NA</td><td>        NA</td></tr>\n",
       "\t<tr><td>0.95      </td><td>        NA</td><td>        NA</td><td>       NA </td><td>        NA</td><td>        NA</td></tr>\n",
       "\t<tr><td>1.00      </td><td>        NA</td><td>        NA</td><td>       NA </td><td>        NA</td><td>        NA</td></tr>\n",
       "</tbody>\n",
       "</table>\n"
      ],
      "text/latex": [
       "\\begin{tabular}{llllll}\n",
       " cutoff & P10 & P01 & P11 & P00 & youden.index\\\\\n",
       "\\hline\n",
       "\t 0.05       & 0.00000000 & 0.99556541 & 1.0000000  & 0.00443459 & 0.00443459\\\\\n",
       "\t 0.10       & 0.02666667 & 0.90022173 & 0.9733333  & 0.09977827 & 0.07311160\\\\\n",
       "\t 0.15       & 0.12666667 & 0.66740576 & 0.8733333  & 0.33259424 & 0.20592757\\\\\n",
       "\t 0.20       & 0.24000000 & 0.47450111 & 0.7600000  & 0.52549889 & 0.28549889\\\\\n",
       "\t 0.25       & 0.36666667 & 0.33259424 & 0.6333333  & 0.66740576 & 0.30073910\\\\\n",
       "\t 0.30       & 0.46000000 & 0.23059867 & 0.5400000  & 0.76940133 & 0.30940133\\\\\n",
       "\t 0.35       & 0.58666667 & 0.15742794 & 0.4133333  & 0.84257206 & 0.25590540\\\\\n",
       "\t 0.40       & 0.70000000 & 0.08647450 & 0.3000000  & 0.91352550 & 0.21352550\\\\\n",
       "\t 0.45       & 0.76000000 & 0.06651885 & 0.2400000  & 0.93348115 & 0.17348115\\\\\n",
       "\t 0.50       & 0.85333333 & 0.04212860 & 0.1466667  & 0.95787140 & 0.10453806\\\\\n",
       "\t 0.55       & 0.89333333 & 0.01552106 & 0.1066667  & 0.98447894 & 0.09114560\\\\\n",
       "\t 0.60       & 0.96000000 & 0.00886918 & 0.0400000  & 0.99113082 & 0.03113082\\\\\n",
       "\t 0.65       & 0.98000000 & 0.00443459 & 0.0200000  & 0.99556541 & 0.01556541\\\\\n",
       "\t 0.70       & 0.98000000 & 0.00443459 & 0.0200000  & 0.99556541 & 0.01556541\\\\\n",
       "\t 0.75       &         NA &         NA &        NA  &         NA &         NA\\\\\n",
       "\t 0.80       &         NA &         NA &        NA  &         NA &         NA\\\\\n",
       "\t 0.85       &         NA &         NA &        NA  &         NA &         NA\\\\\n",
       "\t 0.90       &         NA &         NA &        NA  &         NA &         NA\\\\\n",
       "\t 0.95       &         NA &         NA &        NA  &         NA &         NA\\\\\n",
       "\t 1.00       &         NA &         NA &        NA  &         NA &         NA\\\\\n",
       "\\end{tabular}\n"
      ],
      "text/markdown": [
       "\n",
       "cutoff | P10 | P01 | P11 | P00 | youden.index | \n",
       "|---|---|---|---|---|---|---|---|---|---|---|---|---|---|---|---|---|---|---|---|\n",
       "| 0.05       | 0.00000000 | 0.99556541 | 1.0000000  | 0.00443459 | 0.00443459 | \n",
       "| 0.10       | 0.02666667 | 0.90022173 | 0.9733333  | 0.09977827 | 0.07311160 | \n",
       "| 0.15       | 0.12666667 | 0.66740576 | 0.8733333  | 0.33259424 | 0.20592757 | \n",
       "| 0.20       | 0.24000000 | 0.47450111 | 0.7600000  | 0.52549889 | 0.28549889 | \n",
       "| 0.25       | 0.36666667 | 0.33259424 | 0.6333333  | 0.66740576 | 0.30073910 | \n",
       "| 0.30       | 0.46000000 | 0.23059867 | 0.5400000  | 0.76940133 | 0.30940133 | \n",
       "| 0.35       | 0.58666667 | 0.15742794 | 0.4133333  | 0.84257206 | 0.25590540 | \n",
       "| 0.40       | 0.70000000 | 0.08647450 | 0.3000000  | 0.91352550 | 0.21352550 | \n",
       "| 0.45       | 0.76000000 | 0.06651885 | 0.2400000  | 0.93348115 | 0.17348115 | \n",
       "| 0.50       | 0.85333333 | 0.04212860 | 0.1466667  | 0.95787140 | 0.10453806 | \n",
       "| 0.55       | 0.89333333 | 0.01552106 | 0.1066667  | 0.98447894 | 0.09114560 | \n",
       "| 0.60       | 0.96000000 | 0.00886918 | 0.0400000  | 0.99113082 | 0.03113082 | \n",
       "| 0.65       | 0.98000000 | 0.00443459 | 0.0200000  | 0.99556541 | 0.01556541 | \n",
       "| 0.70       | 0.98000000 | 0.00443459 | 0.0200000  | 0.99556541 | 0.01556541 | \n",
       "| 0.75       |         NA |         NA |        NA  |         NA |         NA | \n",
       "| 0.80       |         NA |         NA |        NA  |         NA |         NA | \n",
       "| 0.85       |         NA |         NA |        NA  |         NA |         NA | \n",
       "| 0.90       |         NA |         NA |        NA  |         NA |         NA | \n",
       "| 0.95       |         NA |         NA |        NA  |         NA |         NA | \n",
       "| 1.00       |         NA |         NA |        NA  |         NA |         NA | \n",
       "\n",
       "\n"
      ],
      "text/plain": [
       "      cutoff P10        P01        P11       P00        youden.index\n",
       " [1,] 0.05   0.00000000 0.99556541 1.0000000 0.00443459 0.00443459  \n",
       " [2,] 0.10   0.02666667 0.90022173 0.9733333 0.09977827 0.07311160  \n",
       " [3,] 0.15   0.12666667 0.66740576 0.8733333 0.33259424 0.20592757  \n",
       " [4,] 0.20   0.24000000 0.47450111 0.7600000 0.52549889 0.28549889  \n",
       " [5,] 0.25   0.36666667 0.33259424 0.6333333 0.66740576 0.30073910  \n",
       " [6,] 0.30   0.46000000 0.23059867 0.5400000 0.76940133 0.30940133  \n",
       " [7,] 0.35   0.58666667 0.15742794 0.4133333 0.84257206 0.25590540  \n",
       " [8,] 0.40   0.70000000 0.08647450 0.3000000 0.91352550 0.21352550  \n",
       " [9,] 0.45   0.76000000 0.06651885 0.2400000 0.93348115 0.17348115  \n",
       "[10,] 0.50   0.85333333 0.04212860 0.1466667 0.95787140 0.10453806  \n",
       "[11,] 0.55   0.89333333 0.01552106 0.1066667 0.98447894 0.09114560  \n",
       "[12,] 0.60   0.96000000 0.00886918 0.0400000 0.99113082 0.03113082  \n",
       "[13,] 0.65   0.98000000 0.00443459 0.0200000 0.99556541 0.01556541  \n",
       "[14,] 0.70   0.98000000 0.00443459 0.0200000 0.99556541 0.01556541  \n",
       "[15,] 0.75           NA         NA        NA         NA         NA  \n",
       "[16,] 0.80           NA         NA        NA         NA         NA  \n",
       "[17,] 0.85           NA         NA        NA         NA         NA  \n",
       "[18,] 0.90           NA         NA        NA         NA         NA  \n",
       "[19,] 0.95           NA         NA        NA         NA         NA  \n",
       "[20,] 1.00           NA         NA        NA         NA         NA  "
      ]
     },
     "metadata": {},
     "output_type": "display_data"
    }
   ],
   "source": [
    "#creating empty vectors to store the results. \n",
    "msclaf.cost <- c()\n",
    "youden.index <- c()\n",
    "cutoff <- c()\n",
    "P11 <- c() #correct classification of positive as positive\n",
    "P00 <- c() #correct classification of negative as negative\n",
    "P10 <- c() #misclassification of positive class to negative class\n",
    "P01 <- c() #misclassification of negative class to positive class\n",
    "\n",
    "n <- length(Affairs$ynaffair)   #Sample Size\n",
    "pred = predict.glm(fit.reduced, Affairs, type = \"response\")  #Predicted Probability as per Model\n",
    "\n",
    "for (i in seq(0.05, 1, .05)) {\n",
    "  predicted.y = rep(\"No\", n)     #Assigning all predicted value as \"No\"\n",
    "  predicted.y[pred > i] = \"Yes\"  #If predicted value greater than cut-off probability then changing the predicted to \"Yes\"\n",
    "  tbl <- table(Affairs$ynaffair, predicted.y) #Creates Classification table based on the Cut-off probability i\n",
    "  if ( i <= 1) {\n",
    "    \n",
    "    P10[20*i] <- tbl[2]/(tbl[2] + tbl[4])    \n",
    "    P11[20*i] <- tbl[4]/(tbl[2] + tbl[4])   #Sensitivity\n",
    "    P01[20*i] <- tbl[3]/(tbl[1] + tbl[3])    \n",
    "    P00[20*i] <- tbl[1]/(tbl[1] + tbl[3])   #Specificity\n",
    "    \n",
    "    cutoff[20*i] <- i\n",
    "    youden.index[20*i] <- P11[20*i] + P00[20*i] - 1\n",
    "  }\n",
    "}\n",
    "youden.table <- cbind(cutoff,P10,P01,P11,P00, youden.index)\n",
    "\n",
    "#Display the Youden's Index for each cut-off probability:\n",
    "youden.table"
   ]
  },
  {
   "cell_type": "markdown",
   "metadata": {},
   "source": [
    "### Cost-Base Optimal Cut-off Probability\n",
    "Youden's index is appropriate only when for a given context both the positive and hegative classifications are equally importnat\n",
    "\n",
    "If they are not equal then we use a cost based approach. We identify the penalty for mis-classifying a negative as positive and a positive as a negative and build the cost matrix. Then, for each cut-off probability, we try to minimize the cost of penalty. So the cut-off probability which minimizes the cost of penalty is selected as the optimal cut-off."
   ]
  },
  {
   "cell_type": "code",
   "execution_count": 107,
   "metadata": {
    "collapsed": false
   },
   "outputs": [
    {
     "data": {
      "text/plain": [
       "    Yes No\n",
       "Yes   0  1\n",
       "No    1  0"
      ]
     },
     "metadata": {},
     "output_type": "display_data"
    },
    {
     "data": {
      "text/html": [
       "<table>\n",
       "<thead><tr><th scope=col>cutoff</th><th scope=col>P10</th><th scope=col>P01</th><th scope=col>P11</th><th scope=col>P00</th><th scope=col>youden.index</th><th scope=col>msclaf.cost</th></tr></thead>\n",
       "<tbody>\n",
       "\t<tr><td>0.05      </td><td>0.00000000</td><td>0.99556541</td><td>1.0000000 </td><td>0.00443459</td><td>0.00443459</td><td>0.9955654 </td></tr>\n",
       "\t<tr><td>0.10      </td><td>0.02666667</td><td>0.90022173</td><td>0.9733333 </td><td>0.09977827</td><td>0.07311160</td><td>0.9268884 </td></tr>\n",
       "\t<tr><td>0.15      </td><td>0.12666667</td><td>0.66740576</td><td>0.8733333 </td><td>0.33259424</td><td>0.20592757</td><td>0.7940724 </td></tr>\n",
       "\t<tr><td>0.20      </td><td>0.24000000</td><td>0.47450111</td><td>0.7600000 </td><td>0.52549889</td><td>0.28549889</td><td>0.7145011 </td></tr>\n",
       "\t<tr><td>0.25      </td><td>0.36666667</td><td>0.33259424</td><td>0.6333333 </td><td>0.66740576</td><td>0.30073910</td><td>0.6992609 </td></tr>\n",
       "\t<tr><td>0.30      </td><td>0.46000000</td><td>0.23059867</td><td>0.5400000 </td><td>0.76940133</td><td>0.30940133</td><td>0.6905987 </td></tr>\n",
       "\t<tr><td>0.35      </td><td>0.58666667</td><td>0.15742794</td><td>0.4133333 </td><td>0.84257206</td><td>0.25590540</td><td>0.7440946 </td></tr>\n",
       "\t<tr><td>0.40      </td><td>0.70000000</td><td>0.08647450</td><td>0.3000000 </td><td>0.91352550</td><td>0.21352550</td><td>0.7864745 </td></tr>\n",
       "\t<tr><td>0.45      </td><td>0.76000000</td><td>0.06651885</td><td>0.2400000 </td><td>0.93348115</td><td>0.17348115</td><td>0.8265188 </td></tr>\n",
       "\t<tr><td>0.50      </td><td>0.85333333</td><td>0.04212860</td><td>0.1466667 </td><td>0.95787140</td><td>0.10453806</td><td>0.8954619 </td></tr>\n",
       "\t<tr><td>0.55      </td><td>0.89333333</td><td>0.01552106</td><td>0.1066667 </td><td>0.98447894</td><td>0.09114560</td><td>0.9088544 </td></tr>\n",
       "\t<tr><td>0.60      </td><td>0.96000000</td><td>0.00886918</td><td>0.0400000 </td><td>0.99113082</td><td>0.03113082</td><td>0.9688692 </td></tr>\n",
       "\t<tr><td>0.65      </td><td>0.98000000</td><td>0.00443459</td><td>0.0200000 </td><td>0.99556541</td><td>0.01556541</td><td>0.9844346 </td></tr>\n",
       "\t<tr><td>0.70      </td><td>0.98000000</td><td>0.00443459</td><td>0.0200000 </td><td>0.99556541</td><td>0.01556541</td><td>0.9844346 </td></tr>\n",
       "\t<tr><td>0.75      </td><td>        NA</td><td>        NA</td><td>       NA </td><td>        NA</td><td>        NA</td><td>       NA </td></tr>\n",
       "\t<tr><td>0.80      </td><td>        NA</td><td>        NA</td><td>       NA </td><td>        NA</td><td>        NA</td><td>       NA </td></tr>\n",
       "\t<tr><td>0.85      </td><td>        NA</td><td>        NA</td><td>       NA </td><td>        NA</td><td>        NA</td><td>       NA </td></tr>\n",
       "\t<tr><td>0.90      </td><td>        NA</td><td>        NA</td><td>       NA </td><td>        NA</td><td>        NA</td><td>       NA </td></tr>\n",
       "\t<tr><td>0.95      </td><td>        NA</td><td>        NA</td><td>       NA </td><td>        NA</td><td>        NA</td><td>       NA </td></tr>\n",
       "\t<tr><td>1.00      </td><td>        NA</td><td>        NA</td><td>       NA </td><td>        NA</td><td>        NA</td><td>       NA </td></tr>\n",
       "</tbody>\n",
       "</table>\n"
      ],
      "text/latex": [
       "\\begin{tabular}{lllllll}\n",
       " cutoff & P10 & P01 & P11 & P00 & youden.index & msclaf.cost\\\\\n",
       "\\hline\n",
       "\t 0.05       & 0.00000000 & 0.99556541 & 1.0000000  & 0.00443459 & 0.00443459 & 0.9955654 \\\\\n",
       "\t 0.10       & 0.02666667 & 0.90022173 & 0.9733333  & 0.09977827 & 0.07311160 & 0.9268884 \\\\\n",
       "\t 0.15       & 0.12666667 & 0.66740576 & 0.8733333  & 0.33259424 & 0.20592757 & 0.7940724 \\\\\n",
       "\t 0.20       & 0.24000000 & 0.47450111 & 0.7600000  & 0.52549889 & 0.28549889 & 0.7145011 \\\\\n",
       "\t 0.25       & 0.36666667 & 0.33259424 & 0.6333333  & 0.66740576 & 0.30073910 & 0.6992609 \\\\\n",
       "\t 0.30       & 0.46000000 & 0.23059867 & 0.5400000  & 0.76940133 & 0.30940133 & 0.6905987 \\\\\n",
       "\t 0.35       & 0.58666667 & 0.15742794 & 0.4133333  & 0.84257206 & 0.25590540 & 0.7440946 \\\\\n",
       "\t 0.40       & 0.70000000 & 0.08647450 & 0.3000000  & 0.91352550 & 0.21352550 & 0.7864745 \\\\\n",
       "\t 0.45       & 0.76000000 & 0.06651885 & 0.2400000  & 0.93348115 & 0.17348115 & 0.8265188 \\\\\n",
       "\t 0.50       & 0.85333333 & 0.04212860 & 0.1466667  & 0.95787140 & 0.10453806 & 0.8954619 \\\\\n",
       "\t 0.55       & 0.89333333 & 0.01552106 & 0.1066667  & 0.98447894 & 0.09114560 & 0.9088544 \\\\\n",
       "\t 0.60       & 0.96000000 & 0.00886918 & 0.0400000  & 0.99113082 & 0.03113082 & 0.9688692 \\\\\n",
       "\t 0.65       & 0.98000000 & 0.00443459 & 0.0200000  & 0.99556541 & 0.01556541 & 0.9844346 \\\\\n",
       "\t 0.70       & 0.98000000 & 0.00443459 & 0.0200000  & 0.99556541 & 0.01556541 & 0.9844346 \\\\\n",
       "\t 0.75       &         NA &         NA &        NA  &         NA &         NA &        NA \\\\\n",
       "\t 0.80       &         NA &         NA &        NA  &         NA &         NA &        NA \\\\\n",
       "\t 0.85       &         NA &         NA &        NA  &         NA &         NA &        NA \\\\\n",
       "\t 0.90       &         NA &         NA &        NA  &         NA &         NA &        NA \\\\\n",
       "\t 0.95       &         NA &         NA &        NA  &         NA &         NA &        NA \\\\\n",
       "\t 1.00       &         NA &         NA &        NA  &         NA &         NA &        NA \\\\\n",
       "\\end{tabular}\n"
      ],
      "text/markdown": [
       "\n",
       "cutoff | P10 | P01 | P11 | P00 | youden.index | msclaf.cost | \n",
       "|---|---|---|---|---|---|---|---|---|---|---|---|---|---|---|---|---|---|---|---|\n",
       "| 0.05       | 0.00000000 | 0.99556541 | 1.0000000  | 0.00443459 | 0.00443459 | 0.9955654  | \n",
       "| 0.10       | 0.02666667 | 0.90022173 | 0.9733333  | 0.09977827 | 0.07311160 | 0.9268884  | \n",
       "| 0.15       | 0.12666667 | 0.66740576 | 0.8733333  | 0.33259424 | 0.20592757 | 0.7940724  | \n",
       "| 0.20       | 0.24000000 | 0.47450111 | 0.7600000  | 0.52549889 | 0.28549889 | 0.7145011  | \n",
       "| 0.25       | 0.36666667 | 0.33259424 | 0.6333333  | 0.66740576 | 0.30073910 | 0.6992609  | \n",
       "| 0.30       | 0.46000000 | 0.23059867 | 0.5400000  | 0.76940133 | 0.30940133 | 0.6905987  | \n",
       "| 0.35       | 0.58666667 | 0.15742794 | 0.4133333  | 0.84257206 | 0.25590540 | 0.7440946  | \n",
       "| 0.40       | 0.70000000 | 0.08647450 | 0.3000000  | 0.91352550 | 0.21352550 | 0.7864745  | \n",
       "| 0.45       | 0.76000000 | 0.06651885 | 0.2400000  | 0.93348115 | 0.17348115 | 0.8265188  | \n",
       "| 0.50       | 0.85333333 | 0.04212860 | 0.1466667  | 0.95787140 | 0.10453806 | 0.8954619  | \n",
       "| 0.55       | 0.89333333 | 0.01552106 | 0.1066667  | 0.98447894 | 0.09114560 | 0.9088544  | \n",
       "| 0.60       | 0.96000000 | 0.00886918 | 0.0400000  | 0.99113082 | 0.03113082 | 0.9688692  | \n",
       "| 0.65       | 0.98000000 | 0.00443459 | 0.0200000  | 0.99556541 | 0.01556541 | 0.9844346  | \n",
       "| 0.70       | 0.98000000 | 0.00443459 | 0.0200000  | 0.99556541 | 0.01556541 | 0.9844346  | \n",
       "| 0.75       |         NA |         NA |        NA  |         NA |         NA |        NA  | \n",
       "| 0.80       |         NA |         NA |        NA  |         NA |         NA |        NA  | \n",
       "| 0.85       |         NA |         NA |        NA  |         NA |         NA |        NA  | \n",
       "| 0.90       |         NA |         NA |        NA  |         NA |         NA |        NA  | \n",
       "| 0.95       |         NA |         NA |        NA  |         NA |         NA |        NA  | \n",
       "| 1.00       |         NA |         NA |        NA  |         NA |         NA |        NA  | \n",
       "\n",
       "\n"
      ],
      "text/plain": [
       "      cutoff P10        P01        P11       P00        youden.index\n",
       " [1,] 0.05   0.00000000 0.99556541 1.0000000 0.00443459 0.00443459  \n",
       " [2,] 0.10   0.02666667 0.90022173 0.9733333 0.09977827 0.07311160  \n",
       " [3,] 0.15   0.12666667 0.66740576 0.8733333 0.33259424 0.20592757  \n",
       " [4,] 0.20   0.24000000 0.47450111 0.7600000 0.52549889 0.28549889  \n",
       " [5,] 0.25   0.36666667 0.33259424 0.6333333 0.66740576 0.30073910  \n",
       " [6,] 0.30   0.46000000 0.23059867 0.5400000 0.76940133 0.30940133  \n",
       " [7,] 0.35   0.58666667 0.15742794 0.4133333 0.84257206 0.25590540  \n",
       " [8,] 0.40   0.70000000 0.08647450 0.3000000 0.91352550 0.21352550  \n",
       " [9,] 0.45   0.76000000 0.06651885 0.2400000 0.93348115 0.17348115  \n",
       "[10,] 0.50   0.85333333 0.04212860 0.1466667 0.95787140 0.10453806  \n",
       "[11,] 0.55   0.89333333 0.01552106 0.1066667 0.98447894 0.09114560  \n",
       "[12,] 0.60   0.96000000 0.00886918 0.0400000 0.99113082 0.03113082  \n",
       "[13,] 0.65   0.98000000 0.00443459 0.0200000 0.99556541 0.01556541  \n",
       "[14,] 0.70   0.98000000 0.00443459 0.0200000 0.99556541 0.01556541  \n",
       "[15,] 0.75           NA         NA        NA         NA         NA  \n",
       "[16,] 0.80           NA         NA        NA         NA         NA  \n",
       "[17,] 0.85           NA         NA        NA         NA         NA  \n",
       "[18,] 0.90           NA         NA        NA         NA         NA  \n",
       "[19,] 0.95           NA         NA        NA         NA         NA  \n",
       "[20,] 1.00           NA         NA        NA         NA         NA  \n",
       "      msclaf.cost\n",
       " [1,] 0.9955654  \n",
       " [2,] 0.9268884  \n",
       " [3,] 0.7940724  \n",
       " [4,] 0.7145011  \n",
       " [5,] 0.6992609  \n",
       " [6,] 0.6905987  \n",
       " [7,] 0.7440946  \n",
       " [8,] 0.7864745  \n",
       " [9,] 0.8265188  \n",
       "[10,] 0.8954619  \n",
       "[11,] 0.9088544  \n",
       "[12,] 0.9688692  \n",
       "[13,] 0.9844346  \n",
       "[14,] 0.9844346  \n",
       "[15,]        NA  \n",
       "[16,]        NA  \n",
       "[17,]        NA  \n",
       "[18,]        NA  \n",
       "[19,]        NA  \n",
       "[20,]        NA  "
      ]
     },
     "metadata": {},
     "output_type": "display_data"
    }
   ],
   "source": [
    "#creating empty vectors to store the results. \n",
    "msclaf.cost <- c()\n",
    "youden.index <- c()\n",
    "cutoff <- c()\n",
    "P11 <- c() #correct classification of positive as positive\n",
    "P00 <- c() #correct classification of negative as negative\n",
    "P10 <- c() #misclassification of positive class to negative class\n",
    "P01 <- c() #misclassification of negative class to positive class\n",
    "\n",
    "#Building the Cost Matrix:\n",
    "costs = matrix(c(0,1,1, 0), ncol = 2)   #Defining the cost as: Misclassifying a negative as a positive is twice costly than misclassifying a positive as negative\n",
    "colnames(costs) = rownames(costs) = c(\"Yes\", \"No\")\n",
    "as.table(costs)\n",
    "\n",
    "n <- length(Affairs$ynaffair)   #Sample Size\n",
    "pred = predict.glm(fit.reduced, Affairs, type = \"response\")  #Predicted Probability as per Model\n",
    "\n",
    "for (i in seq(0.05, 1, .05)) {\n",
    "  predicted.y = rep(\"No\", n)     #Assigning all predicted value as \"No\"\n",
    "  predicted.y[pred > i] = \"Yes\"  #If predicted value greater than cut-off probability then changing the predicted to \"Yes\"\n",
    "  tbl <- table(Affairs$ynaffair, predicted.y) #Creates Classification table based on the Cut-off probability i\n",
    "  if ( i <= 1) {\n",
    "    \n",
    "    P10[20*i] <- tbl[2]/(tbl[2] + tbl[4])    \n",
    "    P11[20*i] <- tbl[4]/(tbl[2] + tbl[4])   #Sensitivity\n",
    "    P01[20*i] <- tbl[3]/(tbl[1] + tbl[3])    \n",
    "    P00[20*i] <- tbl[1]/(tbl[1] + tbl[3])   #Specificity\n",
    "    \n",
    "    cutoff[20*i] <- i\n",
    "    msclaf.cost[20*i] <- P10[20*i]*costs[2] + P01[20*i]*costs[3]\n",
    "    youden.index[20*i] <- P11[20*i] + P00[20*i] - 1\n",
    "  }\n",
    "}\n",
    "df.cost.table <- cbind(cutoff,P10,P01,P11,P00, youden.index,msclaf.cost)\n",
    "df.cost.table"
   ]
  },
  {
   "cell_type": "markdown",
   "metadata": {},
   "source": [
    "### Accuracy of the Model\n",
    "Note: For Logistic Regression Accuracy is not the characteristic by which we will select the cut-off probability. This is because of the Accuracy Paradox. Nonetheless to compute the accuracy for a particular cut-off the code is as below:"
   ]
  },
  {
   "cell_type": "code",
   "execution_count": 123,
   "metadata": {
    "collapsed": false
   },
   "outputs": [
    {
     "data": {
      "text/plain": [
       "     predicted.y\n",
       "       No Yes\n",
       "  No  347 104\n",
       "  Yes  69  81"
      ]
     },
     "metadata": {},
     "output_type": "display_data"
    },
    {
     "data": {
      "text/html": [
       "0.712146422628952"
      ],
      "text/latex": [
       "0.712146422628952"
      ],
      "text/markdown": [
       "0.712146422628952"
      ],
      "text/plain": [
       "[1] 0.7121464"
      ]
     },
     "metadata": {},
     "output_type": "display_data"
    },
    {
     "data": {
      "text/plain": [
       "Confusion Matrix and Statistics\n",
       "\n",
       "          Reference\n",
       "Prediction  No Yes\n",
       "       No  347  69\n",
       "       Yes 104  81\n",
       "                                          \n",
       "               Accuracy : 0.7121          \n",
       "                 95% CI : (0.6741, 0.7481)\n",
       "    No Information Rate : 0.7504          \n",
       "    P-Value [Acc > NIR] : 0.985621        \n",
       "                                          \n",
       "                  Kappa : 0.2871          \n",
       " Mcnemar's Test P-Value : 0.009739        \n",
       "                                          \n",
       "            Sensitivity : 0.7694          \n",
       "            Specificity : 0.5400          \n",
       "         Pos Pred Value : 0.8341          \n",
       "         Neg Pred Value : 0.4378          \n",
       "             Prevalence : 0.7504          \n",
       "         Detection Rate : 0.5774          \n",
       "   Detection Prevalence : 0.6922          \n",
       "      Balanced Accuracy : 0.6547          \n",
       "                                          \n",
       "       'Positive' Class : No              \n",
       "                                          "
      ]
     },
     "metadata": {},
     "output_type": "display_data"
    }
   ],
   "source": [
    "i = 0.3 #Update with the Optimal Cut-off Probability\n",
    "\n",
    "#Computing the Accuracy Manually:\n",
    "n <- length(Affairs$ynaffair)   #Sample Size\n",
    "pred = predict.glm(fit.reduced, Affairs, type = \"response\")  #Predicted Probability as per Model\n",
    "predicted.y = rep(\"No\", n)     #Assigning all predicted value as \"No\"\n",
    "predicted.y[pred > i] = \"Yes\"  #If predicted value greater than cut-off probability then changing the predicted to \"Yes\"\n",
    "accuracy <- table(Affairs$ynaffair, predicted.y) #Creates Classification table based on the Cut-off probability i\n",
    "accuracy\n",
    "sum(diag(accuracy))/sum(accuracy)\n",
    "\n",
    "#Computing the Accuracy using the Confusion Matrix in Car Package:\n",
    "confusionMatrix(data=predicted.y, Affairs$ynaffair)"
   ]
  },
  {
   "cell_type": "markdown",
   "metadata": {},
   "source": [
    "### Gain Chart for Imbalanced Data"
   ]
  },
  {
   "cell_type": "code",
   "execution_count": 155,
   "metadata": {
    "collapsed": false
   },
   "outputs": [
    {
     "data": {
      "image/png": "[encoded data removed]",
      "text/plain": [
       "Plot with title \"N = 50\""
      ]
     },
     "metadata": {},
     "output_type": "display_data"
    }
   ],
   "source": [
    "#v <- c(pred = testing_data$predictionsOutput)\n",
    "#pred_1 <- prediction(fitted(fit.reduced), Affairs$ynaffair)\n",
    "#gain <- performance(pred_1,\"tpr\",\"fpr\")\n",
    "#plot(gain, col=\"orange\", lwd=2)\n",
    "\n",
    "gain.chart <- function(n) {\n",
    "    score <- runif(n)\n",
    "    y <- (runif(n) < score)\n",
    "    plot(performance(pred_1, \"tpr\", \"rpp\"),\n",
    "         lwd = 7, main = paste(\"N =\", n))\n",
    "    lines(ecdf((rank(-score)[y == T]) / n),\n",
    "          verticals = T, do.points = F, col = \"red\", lwd = 3)\n",
    "}\n",
    "\n",
    "set.seed(1)\n",
    "gain.chart(50)"
   ]
  },
  {
   "cell_type": "code",
   "execution_count": null,
   "metadata": {
    "collapsed": true
   },
   "outputs": [],
   "source": []
  }
 ],
 "metadata": {
  "kernelspec": {
   "display_name": "R",
   "language": "R",
   "name": "ir"
  },
  "language_info": {
   "codemirror_mode": "r",
   "file_extension": ".r",
   "mimetype": "text/x-r-source",
   "name": "R",
   "pygments_lexer": "r",
   "version": "3.4.0"
  }
 },
 "nbformat": 4,
 "nbformat_minor": 2
}
