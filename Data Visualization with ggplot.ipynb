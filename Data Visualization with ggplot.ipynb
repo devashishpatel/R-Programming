{
 "cells": [
  {
   "cell_type": "markdown",
   "metadata": {},
   "source": [
    "ggplot2 implements the grammar of graphics, a coherent system for describing and building graphs. \n",
    "Basic Template:\n",
    "library: tidyverse\n",
    "\n",
    "#### Mapping:\n",
    "Each geom function in ggplot2 takes a mapping argument. This defines how variables in your dataset are mapped to visual properties. The mapping argument is always paired with aes(), and the x and y arguments of aes() specify which variables to map to the x and y axes. ggplot2 looks for the mapped variable in the data argument.\n",
    "\n",
    "You can add a third variable, like class, to a two dimensional scatterplot by mapping it to an aesthetic. An aesthetic is a visual property of the objects in your plot. Aesthetics include things like the size, the shape, alpha, or the color of your points. \n",
    "\n",
    "To map an aesthetic to a variable, associate the name of the aesthetic to the name of the variable inside aes()\n",
    "\n",
    "#### Facets:\n",
    "One way to add additional variables is with aesthetics. Another way, particularly useful for categorical variables, is to split your plot into facets, subplots that each display one subset of the data.\n",
    "\n",
    "To facet your plot by a single variable, use facet_wrap(). The first argument of facet_wrap() should be a formula, which you create with ~ followed by a variable name (here “formula” is the name of a data structure in R, not a synonym for “equation”). The variable that you pass to facet_wrap() should be discrete.\n",
    "\n",
    "ggplot(data = mpg) + \n",
    "  geom_point(mapping = aes(x = displ, y = hwy)) + \n",
    "  facet_wrap(~ class, nrow = 2)\n",
    "  \n",
    "To facet your plot on the combination of two variables, add facet_grid() to your plot call. The first argument of facet_grid() is also a formula. This time the formula should contain two variable names separated by a ~.\n",
    "\n",
    "ggplot(data = mpg) + \n",
    "  geom_point(mapping = aes(x = displ, y = hwy)) + \n",
    "  facet_grid(drv ~ cyl)\n",
    "  \n",
    "If you prefer to not facet in the rows or columns dimension, use a . instead of a variable name, e.g. + facet_grid(. ~ cyl)."
   ]
  },
  {
   "cell_type": "code",
   "execution_count": 1,
   "metadata": {
    "collapsed": false
   },
   "outputs": [
    {
     "name": "stderr",
     "output_type": "stream",
     "text": [
      "Loading tidyverse: ggplot2\n",
      "Loading tidyverse: tibble\n",
      "Loading tidyverse: tidyr\n",
      "Loading tidyverse: readr\n",
      "Loading tidyverse: purrr\n",
      "Loading tidyverse: dplyr\n",
      "Conflicts with tidy packages ---------------------------------------------------\n",
      "filter(): dplyr, stats\n",
      "lag():    dplyr, stats\n"
     ]
    }
   ],
   "source": [
    "library(tidyverse)"
   ]
  },
  {
   "cell_type": "code",
   "execution_count": 15,
   "metadata": {
    "collapsed": false
   },
   "outputs": [
    {
     "ename": "ERROR",
     "evalue": "Error in FUN(X[[i]], ...): object 'dsp' not found\n",
     "output_type": "error",
     "traceback": [
      "Error in FUN(X[[i]], ...): object 'dsp' not found\nTraceback:\n",
      "1. print(a)",
      "2. print.ggplot(a)",
      "3. ggplot_build(x)",
      "4. by_layer(function(l, d) l$compute_aesthetics(d, plot))",
      "5. f(l = layers[[i]], d = data[[i]])",
      "6. l$compute_aesthetics(d, plot)",
      "7. f(..., self = self)",
      "8. lapply(aesthetics, eval, envir = data, enclos = plot$plot_env)",
      "9. FUN(X[[i]], ...)",
      "10. FUN(X[[i]], ...)"
     ]
    },
    {
     "data": {
      "image/png": "[encoded data removed]"
     },
     "metadata": {},
     "output_type": "display_data"
    }
   ],
   "source": [
    "a <- ggplot(data=mpg) + geom_point(mapping = aes(x = dsp, y = hwy))\n",
    "\n",
    "print(a)\n"
   ]
  },
  {
   "cell_type": "code",
   "execution_count": null,
   "metadata": {
    "collapsed": true
   },
   "outputs": [],
   "source": []
  }
 ],
 "metadata": {
  "kernelspec": {
   "display_name": "R",
   "language": "R",
   "name": "ir"
  },
  "language_info": {
   "codemirror_mode": "r",
   "file_extension": ".r",
   "mimetype": "text/x-r-source",
   "name": "R",
   "pygments_lexer": "r",
   "version": "3.4.0"
  }
 },
 "nbformat": 4,
 "nbformat_minor": 2
}
