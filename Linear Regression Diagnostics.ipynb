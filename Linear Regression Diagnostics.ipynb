{
 "cells": [
  {
   "cell_type": "markdown",
   "metadata": {},
   "source": [
    "## Building Regression Model and Regression Diagnostics with Base R package"
   ]
  },
  {
   "cell_type": "code",
   "execution_count": 42,
   "metadata": {
    "collapsed": false
   },
   "outputs": [
    {
     "data": {
      "text/plain": [
       "\n",
       "Call:\n",
       "lm(formula = Murder ~ Population + Illiteracy + Income + Frost, \n",
       "    data = states)\n",
       "\n",
       "Residuals:\n",
       "    Min      1Q  Median      3Q     Max \n",
       "-4.7960 -1.6495 -0.0811  1.4815  7.6210 \n",
       "\n",
       "Coefficients:\n",
       "             Estimate Std. Error t value Pr(>|t|)    \n",
       "(Intercept) 1.235e+00  3.866e+00   0.319   0.7510    \n",
       "Population  2.237e-04  9.052e-05   2.471   0.0173 *  \n",
       "Illiteracy  4.143e+00  8.744e-01   4.738 2.19e-05 ***\n",
       "Income      6.442e-05  6.837e-04   0.094   0.9253    \n",
       "Frost       5.813e-04  1.005e-02   0.058   0.9541    \n",
       "---\n",
       "Signif. codes:  0 '***' 0.001 '**' 0.01 '*' 0.05 '.' 0.1 ' ' 1\n",
       "\n",
       "Residual standard error: 2.535 on 45 degrees of freedom\n",
       "Multiple R-squared:  0.567,\tAdjusted R-squared:  0.5285 \n",
       "F-statistic: 14.73 on 4 and 45 DF,  p-value: 9.133e-08\n"
      ]
     },
     "metadata": {},
     "output_type": "display_data"
    }
   ],
   "source": [
    "# Building Regression Model\n",
    "states <- as.data.frame(state.x77[,c(\"Murder\", \"Population\",\n",
    "                                     \"Illiteracy\", \"Income\", \"Frost\")])\n",
    "fit <- lm(Murder ~ Population + Illiteracy + Income + Frost, data=states)\n",
    "summary(fit)"
   ]
  },
  {
   "cell_type": "code",
   "execution_count": 6,
   "metadata": {
    "collapsed": false
   },
   "outputs": [
    {
     "data": {
      "image/png": "[encoded data removed]",
      "text/plain": [
       "Plot with title \"\""
      ]
     },
     "metadata": {},
     "output_type": "display_data"
    }
   ],
   "source": [
    "par(mfrow = c(2,2))\n",
    "plot(fit)"
   ]
  },
  {
   "cell_type": "markdown",
   "metadata": {},
   "source": [
    "Based on the Assumptions of OLS:\n",
    "* Normality —If the dependent variable is normally distributed for a fixed set of predictor values, then the residual values should be normally distributed with a mean of 0. \n",
    "\t* The Normal Q-Q plot (upper right) is a probability plot of the standardized residuals against the values that would be expected under normality. If you’ve met the normality assumption, the points on this graph should fall on the straight 45-degree line. Because they don’t, you’ve clearly violated the normality assumption.\n",
    "* Independence —You can’t tell if the dependent variable values are independent from these plots. You have to use your understanding of how the data were collected.\n",
    "* Linearity —If the dependent variable is linearly related to the independent variables, there should be no systematic relationship between the residuals and the predicted (that is, fitted) values. In other words, the model should capture all the systematic variance present in the data, leaving nothing but random noise. Residuals versus Fitted graph (upper left), indicates a linear relationship.\n",
    "* Homoscedasticity —If you’ve met the constant variance assumption, the points in the Scale-Location graph (bottom left) should be a random band around a horizontal line. \n",
    "* Outlier Analysis —Residual versus Leverage graph (bottom right) provides information on individual observations that you may wish to attend to. The graph identifies outliers, high-leverage points, and influential observations"
   ]
  },
  {
   "cell_type": "markdown",
   "metadata": {},
   "source": [
    "## Enhanced Regression Diagnostics using car Package"
   ]
  },
  {
   "cell_type": "code",
   "execution_count": 7,
   "metadata": {
    "collapsed": false
   },
   "outputs": [
    {
     "name": "stderr",
     "output_type": "stream",
     "text": [
      "Warning message:\n",
      "\"package 'car' was built under R version 3.4.1\""
     ]
    }
   ],
   "source": [
    "library(car)"
   ]
  },
  {
   "cell_type": "markdown",
   "metadata": {},
   "source": [
    "## Testing Assumption: Normality\n",
    "We test the assumption of Normality using: Q-Q Plot and a Histogram of Studentized Residuals"
   ]
  },
  {
   "cell_type": "code",
   "execution_count": 11,
   "metadata": {
    "collapsed": false
   },
   "outputs": [
    {
     "data": {
      "image/png": "[encoded data removed]",
      "text/plain": [
       "Plot with title \"Q-Q Plot\""
      ]
     },
     "metadata": {},
     "output_type": "display_data"
    }
   ],
   "source": [
    "options(repr.plot.width=5, repr.plot.height=4)\n",
    "qqPlot(fit,labels = row.names(states) , id.method=\"identify\", simulate=TRUE, main=\"Q-Q Plot\") #Interactive Plot"
   ]
  },
  {
   "cell_type": "markdown",
   "metadata": {},
   "source": [
    "Analyzing the Point - Nevada that does not fall on the Normal Line.\n",
    "We note that: Murder rate in Nevada is 11.5% but the model predicts it as 3.87%"
   ]
  },
  {
   "cell_type": "code",
   "execution_count": 12,
   "metadata": {
    "collapsed": false
   },
   "outputs": [
    {
     "data": {
      "text/html": [
       "<table>\n",
       "<thead><tr><th></th><th scope=col>Murder</th><th scope=col>Population</th><th scope=col>Illiteracy</th><th scope=col>Income</th><th scope=col>Frost</th></tr></thead>\n",
       "<tbody>\n",
       "\t<tr><th scope=row>Nevada</th><td>11.5</td><td>590 </td><td>0.5 </td><td>5149</td><td>188 </td></tr>\n",
       "</tbody>\n",
       "</table>\n"
      ],
      "text/latex": [
       "\\begin{tabular}{r|lllll}\n",
       "  & Murder & Population & Illiteracy & Income & Frost\\\\\n",
       "\\hline\n",
       "\tNevada & 11.5 & 590  & 0.5  & 5149 & 188 \\\\\n",
       "\\end{tabular}\n"
      ],
      "text/markdown": [
       "\n",
       "| <!--/--> | Murder | Population | Illiteracy | Income | Frost | \n",
       "|---|\n",
       "| Nevada | 11.5 | 590  | 0.5  | 5149 | 188  | \n",
       "\n",
       "\n"
      ],
      "text/plain": [
       "       Murder Population Illiteracy Income Frost\n",
       "Nevada 11.5   590        0.5        5149   188  "
      ]
     },
     "metadata": {},
     "output_type": "display_data"
    },
    {
     "data": {
      "text/html": [
       "<strong>Nevada:</strong> 3.87895839633072"
      ],
      "text/latex": [
       "\\textbf{Nevada:} 3.87895839633072"
      ],
      "text/markdown": [
       "**Nevada:** 3.87895839633072"
      ],
      "text/plain": [
       "  Nevada \n",
       "3.878958 "
      ]
     },
     "metadata": {},
     "output_type": "display_data"
    },
    {
     "data": {
      "text/html": [
       "<strong>Nevada:</strong> 7.62104160366928"
      ],
      "text/latex": [
       "\\textbf{Nevada:} 7.62104160366928"
      ],
      "text/markdown": [
       "**Nevada:** 7.62104160366928"
      ],
      "text/plain": [
       "  Nevada \n",
       "7.621042 "
      ]
     },
     "metadata": {},
     "output_type": "display_data"
    },
    {
     "data": {
      "text/html": [
       "<strong>Nevada:</strong> 3.54292863626562"
      ],
      "text/latex": [
       "\\textbf{Nevada:} 3.54292863626562"
      ],
      "text/markdown": [
       "**Nevada:** 3.54292863626562"
      ],
      "text/plain": [
       "  Nevada \n",
       "3.542929 "
      ]
     },
     "metadata": {},
     "output_type": "display_data"
    }
   ],
   "source": [
    "states[\"Nevada\",]\n",
    "fitted(fit)[\"Nevada\"]\n",
    "residuals(fit)[\"Nevada\"]\n",
    "rstudent(fit)[\"Nevada\"]"
   ]
  },
  {
   "cell_type": "markdown",
   "metadata": {},
   "source": [
    "### Plotting Histogram of Studentized Reisduals\n",
    "The residplot() function generates a histogram of the studentized residuals and superimposes a normal curve, kernel density curve, and rug plot. We see that the errors follow a normal distribution quite well, with the exception of a large outlier. Although the Q-Q plot is probably more informative,it's easier to gauge the skew of a distribution from a histogram or density plot than from a probability plot."
   ]
  },
  {
   "cell_type": "code",
   "execution_count": 19,
   "metadata": {
    "collapsed": false
   },
   "outputs": [
    {
     "data": {
      "image/png": "[encoded data removed]",
      "text/plain": [
       "Plot with title \"Distribution of Errors\""
      ]
     },
     "metadata": {},
     "output_type": "display_data"
    }
   ],
   "source": [
    "options(repr.plot.width=5, repr.plot.height=5)\n",
    "residplot <- function(fit, nbreaks=10) {\n",
    "    z <- rstudent(fit)\n",
    "    hist(z, breaks=nbreaks, freq=FALSE,\n",
    "    xlab=\"Studentized Residual\",\n",
    "    main=\"Distribution of Errors\")\n",
    "    rug(jitter(z), col=\"brown\")\n",
    "    curve(dnorm(x, mean=mean(z), sd=sd(z)),\n",
    "    add=TRUE, col=\"blue\", lwd=2)\n",
    "    lines(density(z)$x, density(z)$y,\n",
    "    col=\"red\", lwd=2, lty=2)\n",
    "    legend(\"topright\",\n",
    "    legend = c( \"Normal Curve\", \"Kernel Density Curve\"),\n",
    "    lty=1:2, col=c(\"blue\",\"red\"), cex=.7)\n",
    "    }\n",
    "residplot(fit)"
   ]
  },
  {
   "cell_type": "markdown",
   "metadata": {},
   "source": [
    "## Testing Assumption: Independence of Errors:\n",
    "The car package provides a function for the Durbin–Watson test to detect auto-correlation among the observations.\n",
    "Null Hypothesis: Auto-correlation is present in the data\n",
    "A non-significant p-value indicates a lack of Auto-correlation and conversely an independence of errors.\n",
    "\n",
    "Note: The test is applicable only for time-dependent data. If the data is not clustered around time, then the test is not applicable."
   ]
  },
  {
   "cell_type": "code",
   "execution_count": 20,
   "metadata": {
    "collapsed": false
   },
   "outputs": [
    {
     "data": {
      "text/plain": [
       " lag Autocorrelation D-W Statistic p-value\n",
       "   1      -0.2006929      2.317691   0.282\n",
       " Alternative hypothesis: rho != 0"
      ]
     },
     "metadata": {},
     "output_type": "display_data"
    }
   ],
   "source": [
    "durbinWatsonTest(fit)"
   ]
  },
  {
   "cell_type": "markdown",
   "metadata": {},
   "source": [
    "## Testing Assumption: Linearity\n",
    "The car package provides the Component+Residual Plots to test the linearity assumption.\n",
    "\n",
    "Component residual plots, an extension of partial residual plots, are a good way to see if the predictors have a linear relationship to the dependent variable. A partial residual plot essentially attempts to model the residuals of one predictor against the dependent variable. A component residual plot adds a line indicating where the line of best fit lies. A significant difference between the residual line and the component line indicates that the predictor does not have a linear relationship with the dependent variable."
   ]
  },
  {
   "cell_type": "code",
   "execution_count": 21,
   "metadata": {
    "collapsed": false
   },
   "outputs": [
    {
     "data": {
      "image/png": "[encoded data removed]",
      "text/plain": [
       "plot without title"
      ]
     },
     "metadata": {},
     "output_type": "display_data"
    }
   ],
   "source": [
    "crPlots(fit)"
   ]
  },
  {
   "cell_type": "markdown",
   "metadata": {},
   "source": [
    "## Testing Assumption: HOMOSCEDASTICITY\n",
    "Car pacakge provides two usefull functions: \n",
    "* ncvTest() - produces a score test of the hypothesis of constant error variance against the alternative that the error variance changes with the level of the fitted values. A significant result suggests heteroscedasticity (nonconstant error variance)\n",
    "* spreadLevelPlot() - creates a scatter plot of the absolute standardized\n",
    "residuals versus the fitted values, and superimposes a line of best fit."
   ]
  },
  {
   "cell_type": "code",
   "execution_count": 24,
   "metadata": {
    "collapsed": false
   },
   "outputs": [
    {
     "data": {
      "text/plain": [
       "Non-constant Variance Score Test \n",
       "Variance formula: ~ fitted.values \n",
       "Chisquare = 1.746514    Df = 1     p = 0.1863156 "
      ]
     },
     "metadata": {},
     "output_type": "display_data"
    }
   ],
   "source": [
    "ncvTest(fit)"
   ]
  },
  {
   "cell_type": "code",
   "execution_count": 25,
   "metadata": {
    "collapsed": false
   },
   "outputs": [
    {
     "data": {
      "text/plain": [
       "\n",
       "Suggested power transformation:  1.209626 "
      ]
     },
     "metadata": {},
     "output_type": "display_data"
    },
    {
     "data": {
      "image/png": "[encoded data removed]",
      "text/plain": [
       "Plot with title \"Spread-Level Plot for\n",
       " fit\""
      ]
     },
     "metadata": {},
     "output_type": "display_data"
    }
   ],
   "source": [
    "spreadLevelPlot(fit)"
   ]
  },
  {
   "cell_type": "markdown",
   "metadata": {},
   "source": [
    "NCV Test:\n",
    "The score test is nonsignificant (p = 0.19), suggesting that you’ve met the constant variance assumption. \n",
    "\n",
    "Spread Level Plot:\n",
    "* The points form a random horizontal band around a horizontal line of best fit. If you’d violated the assumption, you’d expect to see a nonhorizontal line. The suggested power transformation is the suggested power p (Y^p) that would stabilize the\n",
    "nonconstant error variance. \n",
    "* For example, if the plot showed a nonhorizontal trend and the suggested power transformation was 0.5, then using sqrt(Y) rather than Y in the regression equation might lead to a model that satisfies homoscedasticity. \n",
    "* If the suggested power was 0, you’d use a log transformation. \n",
    "* In the current example, there’s no evidence of heteroscedasticity & suggested power is close to 1 (no transformation required)."
   ]
  },
  {
   "cell_type": "markdown",
   "metadata": {},
   "source": [
    "### Global Validation of linear model assumption using the gvlma() package:\n",
    "The gvlma() function performs a global validation of linear model assumptions as well as separate evaluations of skewness, kurtosis, and heteroscedasticity. In other words, it provides a single omnibus (go/no go) test of model assumptions."
   ]
  },
  {
   "cell_type": "code",
   "execution_count": 43,
   "metadata": {
    "collapsed": false
   },
   "outputs": [
    {
     "name": "stderr",
     "output_type": "stream",
     "text": [
      "Warning message:\n",
      "\"package 'gvlma' was built under R version 3.4.1\""
     ]
    },
    {
     "name": "stdout",
     "output_type": "stream",
     "text": [
      "\n",
      "Call:\n",
      "lm(formula = Murder ~ Population + Illiteracy + Income + Frost, \n",
      "    data = states)\n",
      "\n",
      "Residuals:\n",
      "    Min      1Q  Median      3Q     Max \n",
      "-4.7960 -1.6495 -0.0811  1.4815  7.6210 \n",
      "\n",
      "Coefficients:\n",
      "             Estimate Std. Error t value Pr(>|t|)    \n",
      "(Intercept) 1.235e+00  3.866e+00   0.319   0.7510    \n",
      "Population  2.237e-04  9.052e-05   2.471   0.0173 *  \n",
      "Illiteracy  4.143e+00  8.744e-01   4.738 2.19e-05 ***\n",
      "Income      6.442e-05  6.837e-04   0.094   0.9253    \n",
      "Frost       5.813e-04  1.005e-02   0.058   0.9541    \n",
      "---\n",
      "Signif. codes:  0 '***' 0.001 '**' 0.01 '*' 0.05 '.' 0.1 ' ' 1\n",
      "\n",
      "Residual standard error: 2.535 on 45 degrees of freedom\n",
      "Multiple R-squared:  0.567,\tAdjusted R-squared:  0.5285 \n",
      "F-statistic: 14.73 on 4 and 45 DF,  p-value: 9.133e-08\n",
      "\n",
      "\n",
      "ASSESSMENT OF THE LINEAR MODEL ASSUMPTIONS\n",
      "USING THE GLOBAL TEST ON 4 DEGREES-OF-FREEDOM:\n",
      "Level of Significance =  0.05 \n",
      "\n",
      "Call:\n",
      " gvlma(x = fit) \n",
      "\n",
      "                    Value p-value                Decision\n",
      "Global Stat        2.7728  0.5965 Assumptions acceptable.\n",
      "Skewness           1.5374  0.2150 Assumptions acceptable.\n",
      "Kurtosis           0.6376  0.4246 Assumptions acceptable.\n",
      "Link Function      0.1154  0.7341 Assumptions acceptable.\n",
      "Heteroscedasticity 0.4824  0.4873 Assumptions acceptable.\n"
     ]
    }
   ],
   "source": [
    "library(gvlma)\n",
    "gvmodel <- gvlma(fit)\n",
    "summary(gvmodel)"
   ]
  },
  {
   "cell_type": "markdown",
   "metadata": {},
   "source": [
    "## Outlier Analysis:\n",
    "\n",
    "* Outliers are observations that aren’t predicted well by the model. They have either unusually large positive or negative residuals. \n",
    "    * Points in Q-Q Plot that lie outside the confidence band are Outliers\n",
    "    * Statistical Test: outlierTest() function reports the Bonferroni adjusted p-value for the largest absolute studentized residual. Note that this function tests the single largest (positive or negative) residual for significance as an outlier. If it isn’t significant, there are no outliers in the dataset. If it is significant, you must delete it and rerun the test to see if others are present.\n",
    "* High Leverage Points: Observations that have high leverage are outliers with regard to the other predictors. In other words, they have an unusual combination of predictor values\n",
    "    * Observations with high leverage are identified through the hat statistic. \n",
    "    * For a given dataset, the average hat value is p/n, where p is the number of parameters estimated in the model (including the intercept) and n is the sample size. \n",
    "    * Roughly speaking, an observation with a hat value greater than 2 or 3 times the average hat value should be examined.\n",
    "* Influential observations: observations that have a disproportionate impact on the values of the model parameters. There are two ways to find the influential observations:\n",
    "    * Cook’s distance or D statistic - Cook’s D values greater than 4/(n-k-1), where n is the sample size and k is the number of predictor variables, indicate influential observations. Note that although it’s useful to cast a wide net when searching for influential observations, we generally use the criterion of D = 1. \n",
    "    * Added Variable Plots:\n",
    "        * Cook’s D plots can help identify influential observations, but they don’t provide information on how these observations affect the model. Added-variable plots can help in this regard.\n",
    "        * For one response variable and k predictor variables, you’d create k added-variable plots. \n",
    "        * Added-variable plots can be created using the avPlots() function\n",
    "* Influence Plot combines the information from Outlier, Leverage and Influential Observations. \n",
    "    * influencePlot() \n",
    "    * It indicates that: \n",
    "        * States above +2 or below –2 on the vertical axis are considered outliers. \n",
    "        * States above 0.2 or 0.3 on the horizontal axis have high leverage (unusual combinations of predictor values). \n",
    "        * Circle size is proportional to influence. Observations depicted by large circles may have disproportionate influence on the parameters estimates of the model."
   ]
  },
  {
   "cell_type": "code",
   "execution_count": 26,
   "metadata": {
    "collapsed": false
   },
   "outputs": [
    {
     "data": {
      "text/plain": [
       "       rstudent unadjusted p-value Bonferonni p\n",
       "Nevada 3.542929         0.00095088     0.047544"
      ]
     },
     "metadata": {},
     "output_type": "display_data"
    }
   ],
   "source": [
    "# To find teh biggest Outlier:\n",
    "outlierTest(fit)"
   ]
  },
  {
   "cell_type": "code",
   "execution_count": 27,
   "metadata": {
    "collapsed": false
   },
   "outputs": [
    {
     "data": {
      "text/html": [],
      "text/latex": [],
      "text/markdown": [],
      "text/plain": [
       "integer(0)"
      ]
     },
     "metadata": {},
     "output_type": "display_data"
    },
    {
     "data": {
      "image/png": "[encoded data removed]",
      "text/plain": [
       "Plot with title \"Index Plot of Hat Values\""
      ]
     },
     "metadata": {},
     "output_type": "display_data"
    }
   ],
   "source": [
    "#To find the Leverage Points. The below code is interactive and does not work fully in Jupyter Notebook\n",
    "hat.plot <- function(fit) {\n",
    "    p <- length(coefficients(fit))\n",
    "    n <- length(fitted(fit))\n",
    "    plot(hatvalues(fit), main=\"Index Plot of Hat Values\")\n",
    "    abline(h=c(2,3)*p/n, col=\"red\", lty=2)\n",
    "    identify(1:n, hatvalues(fit), names(hatvalues(fit)))\n",
    "    }\n",
    "hat.plot(fit)"
   ]
  },
  {
   "cell_type": "markdown",
   "metadata": {},
   "source": [
    "Horizontal lines are drawn at 2 and 3 times the average hat value. The locator function places the graph in interactive mode. Clicking on points of interest labels them until the user presses Esc, selects Stop from the graph drop-down menu, or right-clicks on the graph. Here you see that \n",
    "* Alaska and California are particularly unusual when it comes to their predictor values. \n",
    "* Alaska has a much higher income than other states, while having a lower population and temperature. \n",
    "* California has a much higher population than other states, while having a higher income and higher temperature. \n",
    "* These states are atypical compared with the other 48 observations.\n",
    "\n",
    "Note: High leverage observations may or may not be influential observations. That will depend on whether they’re also outliers."
   ]
  },
  {
   "cell_type": "code",
   "execution_count": 34,
   "metadata": {
    "collapsed": false
   },
   "outputs": [
    {
     "data": {
      "image/png": "[encoded data removed]",
      "text/plain": [
       "Plot with title \"Cook’s D values with Cut-off = 1 \""
      ]
     },
     "metadata": {},
     "output_type": "display_data"
    }
   ],
   "source": [
    "# Finding Influential Points using Cook's Distance:\n",
    "options(repr.plot.width=8, repr.plot.height=5)\n",
    "par(mfrow = c(1,2))\n",
    "\n",
    "cutoff <- 4/(nrow(states)-length(fit$coefficients)-2)\n",
    "plot(fit, which=4, cook.levels=cutoff)\n",
    "abline(h=cutoff, lty=2, col=\"red\")\n",
    "title(\"Cook’s D values greater than 4/(n-k-1)\")\n",
    "\n",
    "plot(fit, which=4, cook.levels=1)\n",
    "abline(h=1, lty=2, col=\"red\")\n",
    "title(\"Cook’s D values with Cut-off = 1 \")"
   ]
  },
  {
   "cell_type": "markdown",
   "metadata": {},
   "source": [
    "The graph identifies Alaska, Hawaii, and Nevada as influential observations. Deleting these states will have a notable impact on the values of the intercept and slopes in the regression model. Given a criterion of D=1, none of the observations in the dataset appear to be influential."
   ]
  },
  {
   "cell_type": "code",
   "execution_count": 35,
   "metadata": {
    "collapsed": false
   },
   "outputs": [
    {
     "name": "stderr",
     "output_type": "stream",
     "text": [
      "Warning message in plot.window(...):\n",
      "\"\"onepage\" is not a graphical parameter\"Warning message in plot.xy(xy, type, ...):\n",
      "\"\"onepage\" is not a graphical parameter\"Warning message in axis(side = side, at = at, labels = labels, ...):\n",
      "\"\"onepage\" is not a graphical parameter\"Warning message in axis(side = side, at = at, labels = labels, ...):\n",
      "\"\"onepage\" is not a graphical parameter\"Warning message in box(...):\n",
      "\"\"onepage\" is not a graphical parameter\"Warning message in title(...):\n",
      "\"\"onepage\" is not a graphical parameter\"Warning message in plot.xy(xy.coords(x, y), type = type, ...):\n",
      "\"\"onepage\" is not a graphical parameter\"Warning message in plot.window(...):\n",
      "\"\"onepage\" is not a graphical parameter\"Warning message in plot.xy(xy, type, ...):\n",
      "\"\"onepage\" is not a graphical parameter\"Warning message in axis(side = side, at = at, labels = labels, ...):\n",
      "\"\"onepage\" is not a graphical parameter\"Warning message in axis(side = side, at = at, labels = labels, ...):\n",
      "\"\"onepage\" is not a graphical parameter\"Warning message in box(...):\n",
      "\"\"onepage\" is not a graphical parameter\"Warning message in title(...):\n",
      "\"\"onepage\" is not a graphical parameter\"Warning message in plot.xy(xy.coords(x, y), type = type, ...):\n",
      "\"\"onepage\" is not a graphical parameter\"Warning message in plot.window(...):\n",
      "\"\"onepage\" is not a graphical parameter\"Warning message in plot.xy(xy, type, ...):\n",
      "\"\"onepage\" is not a graphical parameter\"Warning message in axis(side = side, at = at, labels = labels, ...):\n",
      "\"\"onepage\" is not a graphical parameter\"Warning message in axis(side = side, at = at, labels = labels, ...):\n",
      "\"\"onepage\" is not a graphical parameter\"Warning message in box(...):\n",
      "\"\"onepage\" is not a graphical parameter\"Warning message in title(...):\n",
      "\"\"onepage\" is not a graphical parameter\"Warning message in plot.xy(xy.coords(x, y), type = type, ...):\n",
      "\"\"onepage\" is not a graphical parameter\"Warning message in plot.window(...):\n",
      "\"\"onepage\" is not a graphical parameter\"Warning message in plot.xy(xy, type, ...):\n",
      "\"\"onepage\" is not a graphical parameter\"Warning message in axis(side = side, at = at, labels = labels, ...):\n",
      "\"\"onepage\" is not a graphical parameter\"Warning message in axis(side = side, at = at, labels = labels, ...):\n",
      "\"\"onepage\" is not a graphical parameter\"Warning message in box(...):\n",
      "\"\"onepage\" is not a graphical parameter\"Warning message in title(...):\n",
      "\"\"onepage\" is not a graphical parameter\"Warning message in plot.xy(xy.coords(x, y), type = type, ...):\n",
      "\"\"onepage\" is not a graphical parameter\""
     ]
    },
    {
     "data": {
      "image/png": "[encoded data removed]",
      "text/plain": [
       "Plot with title \"\""
      ]
     },
     "metadata": {},
     "output_type": "display_data"
    }
   ],
   "source": [
    "library(car)\n",
    "avPlots(fit, ask=FALSE, onepage=TRUE, id.method=\"identify\")"
   ]
  },
  {
   "cell_type": "markdown",
   "metadata": {},
   "source": [
    "The straight line in each plot is the actual regression coefficient for that predictor variable. You can see the impact of influential observations by imagining how the line would change if the point representing that observation was deleted. For example, look at the graph of Murder | others versus Income | others in the lower-left corner. You can see that eliminating the point labeled Alaska would move the line in a negative direction. In fact, deleting Alaska changes the regression coefficient for Income from positive (.00006) to negative (–.00085)."
   ]
  },
  {
   "cell_type": "code",
   "execution_count": 40,
   "metadata": {
    "collapsed": false
   },
   "outputs": [
    {
     "data": {
      "image/png": "[encoded data removed]",
      "text/plain": [
       "Plot with title \"Influence Plot\""
      ]
     },
     "metadata": {},
     "output_type": "display_data"
    }
   ],
   "source": [
    "# Create Influence Plot: To combine Outlier, Leverage and Influence Plots\n",
    "options(repr.plot.width=5, repr.plot.height=5)\n",
    "influencePlot(fit, id.method=\"identify\", main=\"Influence Plot\",\n",
    "sub=\"Circle size is proportional to Cook’s distance\")"
   ]
  },
  {
   "cell_type": "markdown",
   "metadata": {},
   "source": [
    "Influence plot. States above +2 or below –2 on the vertical axis are considered outliers. States above 0.2 or 0.3 on the horizontal axis have high leverage (unusual combinations of predictor values). Circle size is proportional to influence. Observations depicted by large circles may have disproportionate influence on the parameters estimates of the model."
   ]
  },
  {
   "cell_type": "markdown",
   "metadata": {},
   "source": [
    "## Assesing Multicolinearity\n",
    "Multicollinearity can be detected using a statistic called the variance inflation factor (VIF). For any predictor variable, the square root of the VIF indicates the degree to which the confidence interval for that variable’s regression parameter is expanded relative to a model with uncorrelated predictors (hence the name). \n",
    "* VIF values are provided by the vif() function in the car package. \n",
    "* As a general rule, vif >2 indicates a multicollinearity problem"
   ]
  },
  {
   "cell_type": "code",
   "execution_count": 45,
   "metadata": {
    "collapsed": false
   },
   "outputs": [
    {
     "data": {
      "text/html": [
       "<dl class=dl-horizontal>\n",
       "\t<dt>Population</dt>\n",
       "\t\t<dd>1.24528200205236</dd>\n",
       "\t<dt>Illiteracy</dt>\n",
       "\t\t<dd>2.16584830171514</dd>\n",
       "\t<dt>Income</dt>\n",
       "\t\t<dd>1.34582173068518</dd>\n",
       "\t<dt>Frost</dt>\n",
       "\t\t<dd>2.08254682072994</dd>\n",
       "</dl>\n"
      ],
      "text/latex": [
       "\\begin{description*}\n",
       "\\item[Population] 1.24528200205236\n",
       "\\item[Illiteracy] 2.16584830171514\n",
       "\\item[Income] 1.34582173068518\n",
       "\\item[Frost] 2.08254682072994\n",
       "\\end{description*}\n"
      ],
      "text/markdown": [
       "Population\n",
       ":   1.24528200205236Illiteracy\n",
       ":   2.16584830171514Income\n",
       ":   1.34582173068518Frost\n",
       ":   2.08254682072994\n",
       "\n"
      ],
      "text/plain": [
       "Population Illiteracy     Income      Frost \n",
       "  1.245282   2.165848   1.345822   2.082547 "
      ]
     },
     "metadata": {},
     "output_type": "display_data"
    }
   ],
   "source": [
    "vif(fit)"
   ]
  },
  {
   "cell_type": "code",
   "execution_count": 46,
   "metadata": {
    "collapsed": false
   },
   "outputs": [
    {
     "data": {
      "text/html": [
       "<dl class=dl-horizontal>\n",
       "\t<dt>Population</dt>\n",
       "\t\t<dd>FALSE</dd>\n",
       "\t<dt>Illiteracy</dt>\n",
       "\t\t<dd>FALSE</dd>\n",
       "\t<dt>Income</dt>\n",
       "\t\t<dd>FALSE</dd>\n",
       "\t<dt>Frost</dt>\n",
       "\t\t<dd>FALSE</dd>\n",
       "</dl>\n"
      ],
      "text/latex": [
       "\\begin{description*}\n",
       "\\item[Population] FALSE\n",
       "\\item[Illiteracy] FALSE\n",
       "\\item[Income] FALSE\n",
       "\\item[Frost] FALSE\n",
       "\\end{description*}\n"
      ],
      "text/markdown": [
       "Population\n",
       ":   FALSEIlliteracy\n",
       ":   FALSEIncome\n",
       ":   FALSEFrost\n",
       ":   FALSE\n",
       "\n"
      ],
      "text/plain": [
       "Population Illiteracy     Income      Frost \n",
       "     FALSE      FALSE      FALSE      FALSE "
      ]
     },
     "metadata": {},
     "output_type": "display_data"
    }
   ],
   "source": [
    "sqrt(vif(fit)) > 2 # problem?"
   ]
  },
  {
   "cell_type": "markdown",
   "metadata": {},
   "source": [
    "Results indicate that multicollinearity is not a problem in our dataset"
   ]
  },
  {
   "cell_type": "code",
   "execution_count": null,
   "metadata": {
    "collapsed": true
   },
   "outputs": [],
   "source": []
  }
 ],
 "metadata": {
  "kernelspec": {
   "display_name": "R",
   "language": "R",
   "name": "ir"
  },
  "language_info": {
   "codemirror_mode": "r",
   "file_extension": ".r",
   "mimetype": "text/x-r-source",
   "name": "R",
   "pygments_lexer": "r",
   "version": "3.4.0"
  }
 },
 "nbformat": 4,
 "nbformat_minor": 2
}
