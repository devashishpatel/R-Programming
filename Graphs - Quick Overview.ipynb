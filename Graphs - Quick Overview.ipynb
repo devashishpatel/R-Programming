{
 "cells": [
  {
   "cell_type": "markdown",
   "metadata": {},
   "source": [
    "### Plotting a simple graph with scatter plot and a line of best fit\n",
    "* The first statement attaches the data frame mtcars. \n",
    "* The second statement opens a graphics window and generates a scatter plot between automobile weight on the horizontal\n",
    "axis and miles per gallon on the vertical axis. \n",
    "* The third statement adds a line of best fit. \n",
    "* The fourth statement adds a title. The final statement detaches the data frame."
   ]
  },
  {
   "cell_type": "code",
   "execution_count": 61,
   "metadata": {
    "collapsed": false
   },
   "outputs": [
    {
     "name": "stderr",
     "output_type": "stream",
     "text": [
      "The following object is masked from package:ggplot2:\n",
      "\n",
      "    mpg\n",
      "\n"
     ]
    },
    {
     "data": {
      "image/png": "[encoded data removed]",
      "text/plain": [
       "Plot with title \"Regression of mpg on weight\""
      ]
     },
     "metadata": {},
     "output_type": "display_data"
    }
   ],
   "source": [
    "options(repr.plot.width=5, repr.plot.height=3)\n",
    "attach(mtcars)\n",
    "plot(wt,mpg)\n",
    "abline(lm(mpg~wt))\n",
    "title(\"Regression of mpg on weight\")\n",
    "detach(mtcars)"
   ]
  },
  {
   "cell_type": "markdown",
   "metadata": {},
   "source": [
    "## To save a graph via code:\n",
    "Sandwich the statements that produce the graph between a statement that sets a destination and a statement that closes that destination. The function that exist include: pdf(), win.metafile(), png(), jpeg(), bmp(), tiff(), xfig(), and postscript()"
   ]
  },
  {
   "cell_type": "code",
   "execution_count": 2,
   "metadata": {
    "collapsed": false
   },
   "outputs": [
    {
     "data": {
      "text/html": [
       "<strong>png:</strong> 2"
      ],
      "text/latex": [
       "\\textbf{png:} 2"
      ],
      "text/markdown": [
       "**png:** 2"
      ],
      "text/plain": [
       "png \n",
       "  2 "
      ]
     },
     "metadata": {},
     "output_type": "display_data"
    }
   ],
   "source": [
    "pdf(\"mygraph.pdf\")\n",
    "attach(mtcars)\n",
    "plot(wt, mpg)\n",
    "abline(lm(mpg~wt))\n",
    "title(\"Regression of MPG on Weight\")\n",
    "detach(mtcars)\n",
    "dev.off()"
   ]
  },
  {
   "cell_type": "markdown",
   "metadata": {},
   "source": [
    "## Graphical Parameters:\n",
    "* You can customize many features of a graph viz. (fonts, colors, axes, titles) through options called graphical parameters.\n",
    "* Specify the options through par() function. **Format: par(optionname=value, optionname=value, ...)**.\n",
    "* Specifying par() without parameters produces a list of the current graphical settings. \n",
    "* Adding the **no.readonly=TRUE** option produces a list of current graphical settings that can be modified.\n",
    "\n",
    "#### Parameters for specifying symbols and lines:\n",
    "Parameter | Description\n",
    "----------|------------\n",
    "pch       | Specifies the symbol to use when plotting points\n",
    "cex       | Specifies the symbol size. cex is a number indicating the amount by which plotting symbols should be scaled relative to the default. 1=default, 1.5 is 50% larger, 0.5 is 50% smaller\n",
    "lty       | Specifies the line type\n",
    "lwd       | Specifies the line width. lwd is expressed relative to the default (default=1). For example, lwd=2 generates a line twice as wide as the default.\n",
    "\n",
    "#### Parameters for specifying colors:\n",
    "Parameter | Description\n",
    "----------|------------\n",
    "col       | Default plotting color. *Some functions (such as lines and pie) accept a vector of values that are recycled. For example, if col=c(“red”, “blue”)and three lines are plotted, the first line will be red, the second blue, and the third red*\n",
    "col.axis  | Color for axis text\n",
    "col.lab   | Color for acis labels\n",
    "col.main  | Color for titles\n",
    "col.sub   | Color for subtitles\n",
    "fg        | Plots foreground\n",
    "bg        | Plots background\n",
    "\n",
    "#### Parameters for specifying the text characteristics:\n",
    "Parameter | Description\n",
    "----------|------------\n",
    "cex       |Number indicating the amount by which plotted text should be scaled relative to the default. 1=default, 1.5 is 50% larger, 0.5 is 50% smaller, etc.\n",
    "cex.axis  | Magnification of axis text relative to cex.\n",
    "cex.lab   | Magnification of axis labels relative to cex.\n",
    "cex.main  | Magnification of titles relative to cex.\n",
    "cex.sub   | Magnification of subtitles relative to cex.\n",
    "\n",
    "#### Paramters for specifying font family, size and style:\n",
    "Parameter | Description\n",
    "----------|------------\n",
    "font      | Integer to specify the font type to use for plotted text. The values are: 1=plain, 2=bold, 3=italic, 4=bold italic, 5=symbol (in Adobe symbol encoding).                                                                                     .\n",
    "font.axis | Font for axis text.\n",
    "font.lab  | Font for axis labels.\n",
    "font.main | Font for titles.\n",
    "font.sub  | Font for subtitles.\n",
    "ps        | Font point size (roughly 1/72 inch).The text size = ps * cex.\n",
    "family    | Font family for drawing text. Standard values are serif, sans, and mono.\n",
    "\n",
    "#### Parameters for graph and margin dimensions:\n",
    "Parameter | Description\n",
    "----------|-------------\n",
    "pin       | Plot dimensions (width, height) in inches.\n",
    "mai       | Numerical vector indicating margin size where c(bottom, left, top, right) is expressed in inches.\n",
    "mar       | Numerical vector indicating margin size where c(bottom, left, top, right) is expressed in lines. The default is c(5, 4, 4, 2) + 0.1. "
   ]
  },
  {
   "cell_type": "code",
   "execution_count": 1,
   "metadata": {
    "collapsed": false
   },
   "outputs": [
    {
     "data": {
      "image/png": "[encoded data removed]",
      "text/plain": [
       "Plot with title \"Regression of mpg on weight\""
      ]
     },
     "metadata": {},
     "output_type": "display_data"
    }
   ],
   "source": [
    "options(repr.plot.width=5, repr.plot.height=3)  #Changing Plot size in Jupyter Kernel for better representation\n",
    "opar <- par(no.readonly=TRUE)       #Makes a copy of the current Graphical parameters\n",
    "mycolors <- rainbow(10)             #Specifies all colors in the Rainbow\n",
    "par(lty = 2 , pch = 5 , lwd = 1  )  #Modifying the default line type to dashed (lty=2) and the default symbol (pch=2)\n",
    "par(col.axis = \"Orange\" , col.lab = \"Violet\" , col.main = \"Red\" , bg = \"Light grey\" , fg = \"Grey\") \n",
    "par(font.axis = 1 , family = \"mono\" , font.main = 4)\n",
    "par(cex.axis = 0.8 , cex.lab = 1 , cex.main = 1)\n",
    "par(pin = c(16,9) , mar = c(4,4,3,1))\n",
    "plot(mtcars$wt, mtcars$mpg ,\n",
    "     col= mycolors , cex = 0.7 ,    #Note: Col parameter should be calles inside the graph, else it gives errors\n",
    "     xlab= \"Weight\" , ylab=\"Mileage\" )\n",
    "abline(lm(mtcars$mpg ~ mtcars$wt) , col = \"Blue\" , lwd = 3 )\n",
    "title(\"Regression of mpg on weight\")\n",
    "par(opar)                           #Restore the original graphical parameters"
   ]
  },
  {
   "cell_type": "markdown",
   "metadata": {
    "collapsed": true
   },
   "source": [
    "## Adding text , customized axis and legends to Graphs:\n",
    "\n",
    "#### title(): To add Title and axis labels to a plot. \n",
    " * Format: title(main=\"main title\", sub=\"sub-title\", xlab=\"x-axis label\", ylab=\"y-axis label\") \n",
    " * Graphical parameters (such as text size, font, rotation, and color) can also be specified in the title() function.\n",
    "\n",
    "#### axis(): Instead of using R's default axis, you can create custom axis with the axis() function\n",
    " * Format: axis(side, at=, labels=, pos=, lty=, col=, las=, tck=, ...)\n",
    " * When creating a custom axis, you should suppress the axis automatically generated by the high-level plotting function. The option axes=FALSE suppresses all axes\n",
    "\n",
    "Parameter | Description\n",
    "----------|------------\n",
    "side      | An integer indicating the side of the graph to draw the axis (1=bottom, 2=left, 3=top, 4=right).\n",
    "at        | A numeric vector indicating where tick marks should be drawn.\n",
    "labels    | A character vector of labels to be placed at the tick marks (if NULL, the at values will be used).\n",
    "pos       | The coordinate at which the axis line is to be drawn (that is, the value on the other axis where it crosses).    \n",
    "lty       | Line type.\n",
    "col       | The line and tick mark color.\n",
    "las       | Labels are parallel (=0) or perpendicular (=2) to the axis.\n",
    "tck       | Length of tick mark as a fraction of the plotting region (a negative number is outside the graph, a positive number is inside, 0 suppresses ticks, 1 creates gridlines); the default is –0.01.\n",
    "    \n",
    " * For minor tick marks, use the minor.tick() function from the Hmisc packge.\n",
    "   Format: minor.tick(nx=n, ny=n, tick.ratio=n)\n",
    "     where nx and ny specify the number of intervals in which to divide the area between major tick marks on the x-axis and y-axis, respectively. tick.ratio is the size of the minor tick mark relative to the major tick mark. The current length of the major tick mark can be retrieved using par(\"tck\")\n",
    "   Example: minor.tick(nx=2, ny=3, tick.ratio=0.5)\n",
    "   \n",
    "#### abline(): Function to add reference lines:\n",
    " * Format: abline(h= yvalues , v=xvalues)\n",
    " * Graphical parameters: line type, color and width can also be specified in abline()\n",
    " * Example: \n",
    "     * abline(h = c(1,3,6)) #Adds solid horizontal lines at y = 1 , 3, 6\n",
    "     * abline(v=seq(1, 5, 2), lty=2, col=\"blue\") #Adds dashed vertical lines at y = 1 , 5, 2\n",
    "\n",
    "#### legend(): Function to add legend when more than one set of data or group is incorporated into a graph\n",
    " * Format: legend(location, title, legend, ...)\n",
    " * Common Options:\n",
    "    * location - You can give an x,y coordinate for the upper-left corner of the legend. You can use locator(1), in which case you use the mouse to indicate the location of the legend. You can also use the keywords bottom, bottomleft, left,topleft, top, topright, right, bottomright, or center to place the legend in the graph. If you use one of these keywords, you can also use inset= to specify an amount to move the legend into the graph (as fraction of plot region).\n",
    "    * title - A character string for the legend title (optional).\n",
    "    * legend - A character vector with the labels.\n",
    "    * Other options - If the legend labels colored lines, specify col= and a vector of colors. If the legend labels point symbols, specify pch= and a vector of point symbols. If the legend labels line width or line style, use lwd= or lty= and a vector of widths or styles. To create colored boxes for the legend (common in bar, box, or pie charts), use fill= and a vector of colors.\n",
    "    * bty - box type\n",
    "    * bg - background color\n",
    "    * cex - size, \n",
    "    * text.col - text color. \n",
    "    * horiz=TRUE sets the legend horizontally rather than vertically.\n",
    "\n",
    "#### Text Annotation:\n",
    " * text(location, \"text to place\", pos, ...) \n",
    "     * Function used for labelling points as well as for adding other text annotations within the graph\n",
    "     * Specify location as a set of x, y coordinates and specify the text to place as a vector of labels\n",
    " * mtext(\"text to place\", side, line=n, ...)\n",
    "     * Specify text in the margin\n",
    " * Options for text and mtext:\n",
    "     * location Location can be an x,y coordinate. Alternatively, the text can be placedinteractively via mouse by specifying location as locator(1).\n",
    "     * pos Position relative to location. 1 = below, 2 = left, 3 = above, 4 = right. If you specify pos, you can specify offset= in percent of character width.\n",
    "     * side Which margin to place text in, where 1 = bottom, 2 = left, 3 = top, 4 = right. You can specify line= to indicate the line in the margin starting with 0 (closest to the plot area) and moving out. You can also specify adj=0 for left/bottom alignment or adj=1 for top/right alignment.\n",
    "     * Other common options are cex, col, and font (for size, color, and font style, respectively)."
   ]
  },
  {
   "cell_type": "code",
   "execution_count": 52,
   "metadata": {
    "collapsed": false
   },
   "outputs": [
    {
     "data": {
      "image/png": "[encoded data removed]",
      "text/plain": [
       "Plot with title \"An Example of Creative Axes\""
      ]
     },
     "metadata": {},
     "output_type": "display_data"
    }
   ],
   "source": [
    "library(Hmisc)\n",
    "x <- c(1:10)\n",
    "y <- x\n",
    "z <- 10/x\n",
    "opar <- par(no.readonly=TRUE)\n",
    "par(mar=c(5, 4, 4, 8) + 0.1)\n",
    "plot(x, y, type=\"b\",\n",
    "     pch=21, col=\"red\",\n",
    "     yaxt=\"n\", lty=3, ann=FALSE)\n",
    "lines(x, z, type=\"b\", pch=22, col=\"blue\", lty=2)  #Add x versus 1/x line to the plot\n",
    "axis(2, at=x, labels=x, col.axis=\"red\", las=2)\n",
    "axis(4, at=z, labels=round(z, digits=2),\n",
    "     col.axis=\"blue\", las=2, cex.axis=0.7, tck=-.01)\n",
    "abline(h=c(2,4,6,8) , v= c(1,2,3,4,5,6,7,8,9,10) , lty = 3 , col = \"brown\") #Adding Reference lines\n",
    "mtext(\"y=1/x\", side=4, line=3, cex.lab=1, las=2, col=\"blue\") #Add Text to the graph\n",
    "title(\"An Example of Creative Axes\",\n",
    "xlab=\"X values\",\n",
    "ylab=\"Y=X\")\n",
    "minor.tick(nx=2, ny=3, tick.ratio=0.5)\n",
    "legend(\"top\", inset =0.1 , title=\"Legend:\", c(\"X\",\"Y\"),\n",
    "        lty=c(1, 1), pch=c(21, 22), col=c(\"red\", \"blue\") , horiz = TRUE , cex = 0.8 ,\n",
    "      )\n",
    "par(opar)"
   ]
  },
  {
   "cell_type": "code",
   "execution_count": 57,
   "metadata": {
    "collapsed": false
   },
   "outputs": [
    {
     "name": "stderr",
     "output_type": "stream",
     "text": [
      "The following object is masked from package:ggplot2:\n",
      "\n",
      "    mpg\n",
      "\n"
     ]
    },
    {
     "data": {
      "image/png": "[encoded data removed]",
      "text/plain": [
       "Plot with title \"Mileage vs. Car Weight with label points car-make\""
      ]
     },
     "metadata": {},
     "output_type": "display_data"
    }
   ],
   "source": [
    "options(repr.plot.width=5, repr.plot.height=5)\n",
    "attach(mtcars)\n",
    "plot(wt, mpg,\n",
    "      main=\"Mileage vs. Car Weight with label points car-make\" ,\n",
    "      xlab=\"Weight\", ylab=\"Mileage\",\n",
    "      pch=18, col=\"blue\")\n",
    "text(wt, mpg, row.names(mtcars),\n",
    "     cex=0.6, pos=4, col=\"red\")\n",
    "detach(mtcars)"
   ]
  },
  {
   "cell_type": "code",
   "execution_count": 72,
   "metadata": {
    "collapsed": false
   },
   "outputs": [
    {
     "data": {
      "image/png": "[encoded data removed]"
     },
     "metadata": {},
     "output_type": "display_data"
    }
   ],
   "source": [
    "options(repr.plot.width=5, repr.plot.height=3)\n",
    "opar <- par(no.readonly=TRUE)\n",
    "par(cex=1)\n",
    "plot(1:7,1:7,type=\"n\" , main = \"Font families on window platform\")\n",
    "text(3,3,\"Example of default text\")\n",
    "text(4,4,family=\"mono\",\"Example of mono-spaced text\")\n",
    "text(5,5,family=\"serif\",\"Example of serif text\")\n",
    "par(opar)"
   ]
  },
  {
   "cell_type": "markdown",
   "metadata": {},
   "source": [
    "## Combining Graphs\n",
    "\n",
    "* Graphs can be combined with par() and layout().\n",
    "* With par() function:\n",
    "    * Use graphical parameters: mfrow=c(nrows,ncols) to create a matrix of nrows x ncols plots that are filled in by row.\n",
    "    * Alternatively, you can use mfcol=c(nrows, ncols) to fill the matrix by columns.\n",
    "* With layout() function: \n",
    "    * Use format layout(mat) where mat is a matrix object specifying location of multiple plots to combine.\n",
    "    * Optionally, you can include widths= and heights= options in the layout() function to control the size of each figure more precisely. These options have the form:\n",
    "        * widths = a vector of values for the widths of columns\n",
    "        * heights = a vector of values for the heights of rows\n",
    "    * Relative widths are specified with numeric values. Absolute widths (in centimeters) are specified with the lcm() function."
   ]
  },
  {
   "cell_type": "code",
   "execution_count": 89,
   "metadata": {
    "collapsed": false
   },
   "outputs": [
    {
     "data": {
      "image/png": "[encoded data removed]"
     },
     "metadata": {},
     "output_type": "display_data"
    }
   ],
   "source": [
    "opar <- par(no.readonly=TRUE)\n",
    "par(mfrow=c(2,2)) # Graph combining four figures through par(mfrow=c(2,2))\n",
    "plot(mtcars$wt, mtcars$mpg, main=\"Scatterplot of wt vs. mpg\")\n",
    "plot(mtcars$wt, mtcars$disp, main=\"Scatterplot of wt vs disp\")\n",
    "hist(mtcars$wt, main=\"Histogram of wt\")\n",
    "boxplot(mtcars$wt, main=\"Boxplot of wt\")\n",
    "par(opar)"
   ]
  },
  {
   "cell_type": "code",
   "execution_count": 96,
   "metadata": {
    "collapsed": false
   },
   "outputs": [
    {
     "data": {
      "image/png": "[encoded data removed]"
     },
     "metadata": {},
     "output_type": "display_data"
    }
   ],
   "source": [
    "opar <- par(no.readonly=TRUE)\n",
    "layout(matrix(c(1,1,2,3), 2, 2, byrow = TRUE)) #Graph combining three figures using the layout() function with default widths\n",
    "hist(mtcars$wt)\n",
    "hist(mtcars$mpg)\n",
    "hist(mtcars$disp)\n",
    "par(opar)"
   ]
  },
  {
   "cell_type": "code",
   "execution_count": null,
   "metadata": {
    "collapsed": true
   },
   "outputs": [],
   "source": []
  }
 ],
 "metadata": {
  "kernelspec": {
   "display_name": "R",
   "language": "R",
   "name": "ir"
  },
  "language_info": {
   "codemirror_mode": "r",
   "file_extension": ".r",
   "mimetype": "text/x-r-source",
   "name": "R",
   "pygments_lexer": "r",
   "version": "3.4.0"
  }
 },
 "nbformat": 4,
 "nbformat_minor": 2
}
