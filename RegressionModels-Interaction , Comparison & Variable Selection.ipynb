{
 "cells": [
  {
   "cell_type": "markdown",
   "metadata": {},
   "source": [
    "## Linear Regression Models"
   ]
  },
  {
   "cell_type": "code",
   "execution_count": 1,
   "metadata": {
    "collapsed": true
   },
   "outputs": [],
   "source": [
    "#Fitting a Basic Simple Linear Regression Model:\n",
    "fit <- lm( weight ~ height , data = women)"
   ]
  },
  {
   "cell_type": "code",
   "execution_count": 2,
   "metadata": {
    "collapsed": false
   },
   "outputs": [
    {
     "data": {
      "text/plain": [
       "\n",
       "Call:\n",
       "lm(formula = weight ~ height, data = women)\n",
       "\n",
       "Residuals:\n",
       "    Min      1Q  Median      3Q     Max \n",
       "-1.7333 -1.1333 -0.3833  0.7417  3.1167 \n",
       "\n",
       "Coefficients:\n",
       "             Estimate Std. Error t value Pr(>|t|)    \n",
       "(Intercept) -87.51667    5.93694  -14.74 1.71e-09 ***\n",
       "height        3.45000    0.09114   37.85 1.09e-14 ***\n",
       "---\n",
       "Signif. codes:  0 '***' 0.001 '**' 0.01 '*' 0.05 '.' 0.1 ' ' 1\n",
       "\n",
       "Residual standard error: 1.525 on 13 degrees of freedom\n",
       "Multiple R-squared:  0.991,\tAdjusted R-squared:  0.9903 \n",
       "F-statistic:  1433 on 1 and 13 DF,  p-value: 1.091e-14\n"
      ]
     },
     "metadata": {},
     "output_type": "display_data"
    }
   ],
   "source": [
    "summary(fit)"
   ]
  },
  {
   "cell_type": "code",
   "execution_count": 8,
   "metadata": {
    "collapsed": false
   },
   "outputs": [
    {
     "data": {
      "text/html": [
       "<table>\n",
       "<thead><tr><th></th><th scope=col>Actual</th><th scope=col>Predicted</th><th scope=col>Residual_Error</th></tr></thead>\n",
       "<tbody>\n",
       "\t<tr><th scope=row>1</th><td>115        </td><td>112.5833   </td><td> 2.41666667</td></tr>\n",
       "\t<tr><th scope=row>2</th><td>117        </td><td>116.0333   </td><td> 0.96666667</td></tr>\n",
       "\t<tr><th scope=row>3</th><td>120        </td><td>119.4833   </td><td> 0.51666667</td></tr>\n",
       "\t<tr><th scope=row>4</th><td>123        </td><td>122.9333   </td><td> 0.06666667</td></tr>\n",
       "\t<tr><th scope=row>5</th><td>126        </td><td>126.3833   </td><td>-0.38333333</td></tr>\n",
       "\t<tr><th scope=row>6</th><td>129        </td><td>129.8333   </td><td>-0.83333333</td></tr>\n",
       "\t<tr><th scope=row>7</th><td>132        </td><td>133.2833   </td><td>-1.28333333</td></tr>\n",
       "\t<tr><th scope=row>8</th><td>135        </td><td>136.7333   </td><td>-1.73333333</td></tr>\n",
       "\t<tr><th scope=row>9</th><td>139        </td><td>140.1833   </td><td>-1.18333333</td></tr>\n",
       "\t<tr><th scope=row>10</th><td>142        </td><td>143.6333   </td><td>-1.63333333</td></tr>\n",
       "\t<tr><th scope=row>11</th><td>146        </td><td>147.0833   </td><td>-1.08333333</td></tr>\n",
       "\t<tr><th scope=row>12</th><td>150        </td><td>150.5333   </td><td>-0.53333333</td></tr>\n",
       "\t<tr><th scope=row>13</th><td>154        </td><td>153.9833   </td><td> 0.01666667</td></tr>\n",
       "\t<tr><th scope=row>14</th><td>159        </td><td>157.4333   </td><td> 1.56666667</td></tr>\n",
       "\t<tr><th scope=row>15</th><td>164        </td><td>160.8833   </td><td> 3.11666667</td></tr>\n",
       "</tbody>\n",
       "</table>\n"
      ],
      "text/latex": [
       "\\begin{tabular}{r|lll}\n",
       "  & Actual & Predicted & Residual\\_Error\\\\\n",
       "\\hline\n",
       "\t1 & 115         & 112.5833    &  2.41666667\\\\\n",
       "\t2 & 117         & 116.0333    &  0.96666667\\\\\n",
       "\t3 & 120         & 119.4833    &  0.51666667\\\\\n",
       "\t4 & 123         & 122.9333    &  0.06666667\\\\\n",
       "\t5 & 126         & 126.3833    & -0.38333333\\\\\n",
       "\t6 & 129         & 129.8333    & -0.83333333\\\\\n",
       "\t7 & 132         & 133.2833    & -1.28333333\\\\\n",
       "\t8 & 135         & 136.7333    & -1.73333333\\\\\n",
       "\t9 & 139         & 140.1833    & -1.18333333\\\\\n",
       "\t10 & 142         & 143.6333    & -1.63333333\\\\\n",
       "\t11 & 146         & 147.0833    & -1.08333333\\\\\n",
       "\t12 & 150         & 150.5333    & -0.53333333\\\\\n",
       "\t13 & 154         & 153.9833    &  0.01666667\\\\\n",
       "\t14 & 159         & 157.4333    &  1.56666667\\\\\n",
       "\t15 & 164         & 160.8833    &  3.11666667\\\\\n",
       "\\end{tabular}\n"
      ],
      "text/markdown": [
       "\n",
       "| <!--/--> | Actual | Predicted | Residual_Error | \n",
       "|---|---|---|---|---|---|---|---|---|---|---|---|---|---|---|\n",
       "| 1 | 115         | 112.5833    |  2.41666667 | \n",
       "| 2 | 117         | 116.0333    |  0.96666667 | \n",
       "| 3 | 120         | 119.4833    |  0.51666667 | \n",
       "| 4 | 123         | 122.9333    |  0.06666667 | \n",
       "| 5 | 126         | 126.3833    | -0.38333333 | \n",
       "| 6 | 129         | 129.8333    | -0.83333333 | \n",
       "| 7 | 132         | 133.2833    | -1.28333333 | \n",
       "| 8 | 135         | 136.7333    | -1.73333333 | \n",
       "| 9 | 139         | 140.1833    | -1.18333333 | \n",
       "| 10 | 142         | 143.6333    | -1.63333333 | \n",
       "| 11 | 146         | 147.0833    | -1.08333333 | \n",
       "| 12 | 150         | 150.5333    | -0.53333333 | \n",
       "| 13 | 154         | 153.9833    |  0.01666667 | \n",
       "| 14 | 159         | 157.4333    |  1.56666667 | \n",
       "| 15 | 164         | 160.8833    |  3.11666667 | \n",
       "\n",
       "\n"
      ],
      "text/plain": [
       "   Actual Predicted Residual_Error\n",
       "1  115    112.5833   2.41666667   \n",
       "2  117    116.0333   0.96666667   \n",
       "3  120    119.4833   0.51666667   \n",
       "4  123    122.9333   0.06666667   \n",
       "5  126    126.3833  -0.38333333   \n",
       "6  129    129.8333  -0.83333333   \n",
       "7  132    133.2833  -1.28333333   \n",
       "8  135    136.7333  -1.73333333   \n",
       "9  139    140.1833  -1.18333333   \n",
       "10 142    143.6333  -1.63333333   \n",
       "11 146    147.0833  -1.08333333   \n",
       "12 150    150.5333  -0.53333333   \n",
       "13 154    153.9833   0.01666667   \n",
       "14 159    157.4333   1.56666667   \n",
       "15 164    160.8833   3.11666667   "
      ]
     },
     "metadata": {},
     "output_type": "display_data"
    }
   ],
   "source": [
    "#Comparing Actual and Predicted values:\n",
    "Actual <- women$weight #Actual Values\n",
    "Predicted <- fitted(fit) #Predicted Values\n",
    "Residual_Error <- residuals(fit) # Residual Error\n",
    "tbl <- cbind(Actual,Predicted,Residual_Error)\n",
    "tbl"
   ]
  },
  {
   "cell_type": "code",
   "execution_count": 15,
   "metadata": {
    "collapsed": false
   },
   "outputs": [
    {
     "data": {
      "image/png": "[encoded data removed]",
      "text/plain": [
       "Plot with title \"OLS Regression\""
      ]
     },
     "metadata": {},
     "output_type": "display_data"
    }
   ],
   "source": [
    "options(repr.plot.width=4, repr.plot.height=4)\n",
    "plot(women$height,women$weight ,\n",
    "     xlab = \"Height in (inches)\" ,\n",
    "     ylab = \"Weight in (pounds)\" ,\n",
    "     main = \"OLS Regression\"\n",
    "    )\n",
    "abline(fit)"
   ]
  },
  {
   "cell_type": "markdown",
   "metadata": {},
   "source": [
    "### Ploynomial Regression "
   ]
  },
  {
   "cell_type": "code",
   "execution_count": 18,
   "metadata": {
    "collapsed": false
   },
   "outputs": [
    {
     "data": {
      "text/plain": [
       "\n",
       "Call:\n",
       "lm(formula = weight ~ height + I(height^2), data = women)\n",
       "\n",
       "Residuals:\n",
       "     Min       1Q   Median       3Q      Max \n",
       "-0.50941 -0.29611 -0.00941  0.28615  0.59706 \n",
       "\n",
       "Coefficients:\n",
       "             Estimate Std. Error t value Pr(>|t|)    \n",
       "(Intercept) 261.87818   25.19677  10.393 2.36e-07 ***\n",
       "height       -7.34832    0.77769  -9.449 6.58e-07 ***\n",
       "I(height^2)   0.08306    0.00598  13.891 9.32e-09 ***\n",
       "---\n",
       "Signif. codes:  0 '***' 0.001 '**' 0.01 '*' 0.05 '.' 0.1 ' ' 1\n",
       "\n",
       "Residual standard error: 0.3841 on 12 degrees of freedom\n",
       "Multiple R-squared:  0.9995,\tAdjusted R-squared:  0.9994 \n",
       "F-statistic: 1.139e+04 on 2 and 12 DF,  p-value: < 2.2e-16\n"
      ]
     },
     "metadata": {},
     "output_type": "display_data"
    },
    {
     "data": {
      "image/png": "[encoded data removed]",
      "text/plain": [
       "Plot with title \"OLS Regression\""
      ]
     },
     "metadata": {},
     "output_type": "display_data"
    }
   ],
   "source": [
    "fit2 <- lm(weight ~ height + I(height^2), data=women)\n",
    "summary(fit2)\n",
    "plot(women$height,women$weight ,\n",
    "     xlab = \"Height in (inches)\" ,\n",
    "     ylab = \"Weight in (pounds)\" ,\n",
    "     main = \"OLS Regression\"\n",
    "    )\n",
    "lines(women$height,fitted(fit2))"
   ]
  },
  {
   "cell_type": "code",
   "execution_count": 20,
   "metadata": {
    "collapsed": false
   },
   "outputs": [
    {
     "data": {
      "image/png": "[encoded data removed]",
      "text/plain": [
       "Plot with title \"Women Age 30-39\""
      ]
     },
     "metadata": {},
     "output_type": "display_data"
    }
   ],
   "source": [
    "#scatterplot() function in the car package provides a simple and convenient method of plotting a bivariate relationship\n",
    "library(car)\n",
    "scatterplot(weight ~ height,\n",
    "data=women,\n",
    "spread=FALSE,\n",
    "pch=19,\n",
    "main=\"Women Age 30-39\",\n",
    "xlab=\"Height (inches)\",\n",
    "ylab=\"Weight (lbs.)\")"
   ]
  },
  {
   "cell_type": "markdown",
   "metadata": {},
   "source": [
    "This enhanced plot provides the scatter plot of weight with height, box plots for each variable in their respective margins, the linear line of best fit, and a smoothed (loess) fit line. \n",
    "* The spread=FALSE options suppress spread and asymmetry information. \n",
    "* The lty.smooth=2 option specifies that the loess fit be rendered as a dashed line. \n",
    "* The pch=19 options display points as filled circles (the default is open circles).\n",
    "\n",
    "You can tell at a glance that the two variables are roughly symmetrical and that a curved line will fit the data points better than a straight line."
   ]
  },
  {
   "cell_type": "markdown",
   "metadata": {},
   "source": [
    "### Multiple Linear Regression with significant Interaction Term\n",
    "\n",
    "Consider the automobile data in the mtcars data frame. Let’s say that you’re interested in the impact of automobile weight and horse power on mileage. You could fit a regression model that includes both predictors, along with their interaction"
   ]
  },
  {
   "cell_type": "code",
   "execution_count": 29,
   "metadata": {
    "collapsed": false
   },
   "outputs": [
    {
     "data": {
      "text/plain": [
       "\n",
       "Call:\n",
       "lm(formula = mpg ~ hp + wt + hp:wt, data = mtcars)\n",
       "\n",
       "Residuals:\n",
       "    Min      1Q  Median      3Q     Max \n",
       "-3.0632 -1.6491 -0.7362  1.4211  4.5513 \n",
       "\n",
       "Coefficients:\n",
       "            Estimate Std. Error t value Pr(>|t|)    \n",
       "(Intercept) 49.80842    3.60516  13.816 5.01e-14 ***\n",
       "hp          -0.12010    0.02470  -4.863 4.04e-05 ***\n",
       "wt          -8.21662    1.26971  -6.471 5.20e-07 ***\n",
       "hp:wt        0.02785    0.00742   3.753 0.000811 ***\n",
       "---\n",
       "Signif. codes:  0 '***' 0.001 '**' 0.01 '*' 0.05 '.' 0.1 ' ' 1\n",
       "\n",
       "Residual standard error: 2.153 on 28 degrees of freedom\n",
       "Multiple R-squared:  0.8848,\tAdjusted R-squared:  0.8724 \n",
       "F-statistic: 71.66 on 3 and 28 DF,  p-value: 2.981e-13\n"
      ]
     },
     "metadata": {},
     "output_type": "display_data"
    }
   ],
   "source": [
    "fit <- lm(mpg ~ hp + wt + hp:wt, data=mtcars)\n",
    "summary(fit)"
   ]
  },
  {
   "cell_type": "markdown",
   "metadata": {},
   "source": [
    "A significant interaction between two predictor variables tells you that the relationship between one predictor and the\n",
    "response variable depends on the level of the other predictor.\n",
    "* Here the Interaction term: hp:wt is clearly significant. \n",
    "* This means that the relationship between miles per gallon and horse power varies by car weight.\n",
    "\n",
    "You can visualize interactions using the effect() function in the effects package. Format: plot(effect(term, mod, xlevels),\n",
    "multiline=TRUE)"
   ]
  },
  {
   "cell_type": "code",
   "execution_count": 22,
   "metadata": {
    "collapsed": false
   },
   "outputs": [
    {
     "name": "stderr",
     "output_type": "stream",
     "text": [
      "Warning message:\n",
      "\"package 'effects' was built under R version 3.4.1\"\n",
      "Attaching package: 'effects'\n",
      "\n",
      "The following object is masked from 'package:car':\n",
      "\n",
      "    Prestige\n",
      "\n"
     ]
    }
   ],
   "source": [
    "library(effects)"
   ]
  },
  {
   "cell_type": "code",
   "execution_count": 26,
   "metadata": {
    "collapsed": false
   },
   "outputs": [
    {
     "data": {},
     "metadata": {},
     "output_type": "display_data"
    },
    {
     "data": {
      "image/png": "[encoded data removed]",
      "text/plain": [
       "plot without title"
      ]
     },
     "metadata": {},
     "output_type": "display_data"
    }
   ],
   "source": [
    "#This plot displays the relationship between mpg and hp at 3 values of wt.\n",
    "plot(effect(\"hp:wt\", fit, xlevels = list(wt=c(2.2,3.2,4.2))), multiline=TRUE)"
   ]
  },
  {
   "cell_type": "markdown",
   "metadata": {},
   "source": [
    "You can see from this graph that as the weight of the car increases, the relationship between horse power and miles per gallon weakens"
   ]
  },
  {
   "cell_type": "markdown",
   "metadata": {},
   "source": [
    "## Selecting the Best Regression Model:\n",
    "\n",
    "When developing a regression equation, you’re implicitly faced with a selection of many possible models. Should you include all the variables under study, or drop ones that don’t make a significant contribution to prediction? Should you add polynomial\n",
    "and/or interaction terms to improve the fit? The selection of a final regression model always involves a compromise between predictive accuracy (a model that fits the data as well as possible) and parsimony (a simple and replicable model). All things being equal, if you have two models with approximately equal predictive accuracy, you favor the simpler one.\n",
    "\n",
    "### Comparing Models:\n",
    "You can compare the fit of two models using:\n",
    "* Anova Function: It provides a simultaneous test of whether the additional variables in the regression model add to the Prediction accuracy of the model. If the test returns insignificant, we conclude that the additional variables do not contribute to the prediction accuracy and we are justified in dropping them\n",
    "* AIC Function: Alkaline Index Criterion takes into account a model's statistical fit and the number of parameters needed to achieve this fit. Models with smaller AIC values—indicating adequate fit with fewer parameters—are preferred.\n",
    "\n",
    "Note: Although the ANOVA approach requires nested models, the AIC approach doesn’t."
   ]
  },
  {
   "cell_type": "code",
   "execution_count": 30,
   "metadata": {
    "collapsed": false
   },
   "outputs": [
    {
     "data": {
      "text/plain": [
       "\n",
       "Call:\n",
       "lm(formula = Murder ~ Population + Illiteracy + Income + Frost, \n",
       "    data = states)\n",
       "\n",
       "Residuals:\n",
       "    Min      1Q  Median      3Q     Max \n",
       "-4.7960 -1.6495 -0.0811  1.4815  7.6210 \n",
       "\n",
       "Coefficients:\n",
       "             Estimate Std. Error t value Pr(>|t|)    \n",
       "(Intercept) 1.235e+00  3.866e+00   0.319   0.7510    \n",
       "Population  2.237e-04  9.052e-05   2.471   0.0173 *  \n",
       "Illiteracy  4.143e+00  8.744e-01   4.738 2.19e-05 ***\n",
       "Income      6.442e-05  6.837e-04   0.094   0.9253    \n",
       "Frost       5.813e-04  1.005e-02   0.058   0.9541    \n",
       "---\n",
       "Signif. codes:  0 '***' 0.001 '**' 0.01 '*' 0.05 '.' 0.1 ' ' 1\n",
       "\n",
       "Residual standard error: 2.535 on 45 degrees of freedom\n",
       "Multiple R-squared:  0.567,\tAdjusted R-squared:  0.5285 \n",
       "F-statistic: 14.73 on 4 and 45 DF,  p-value: 9.133e-08\n"
      ]
     },
     "metadata": {},
     "output_type": "display_data"
    },
    {
     "data": {
      "text/plain": [
       "\n",
       "Call:\n",
       "lm(formula = Murder ~ Population + Illiteracy, data = states)\n",
       "\n",
       "Residuals:\n",
       "    Min      1Q  Median      3Q     Max \n",
       "-4.7652 -1.6561 -0.0898  1.4570  7.6758 \n",
       "\n",
       "Coefficients:\n",
       "             Estimate Std. Error t value Pr(>|t|)    \n",
       "(Intercept) 1.652e+00  8.101e-01   2.039  0.04713 *  \n",
       "Population  2.242e-04  7.984e-05   2.808  0.00724 ** \n",
       "Illiteracy  4.081e+00  5.848e-01   6.978 8.83e-09 ***\n",
       "---\n",
       "Signif. codes:  0 '***' 0.001 '**' 0.01 '*' 0.05 '.' 0.1 ' ' 1\n",
       "\n",
       "Residual standard error: 2.481 on 47 degrees of freedom\n",
       "Multiple R-squared:  0.5668,\tAdjusted R-squared:  0.5484 \n",
       "F-statistic: 30.75 on 2 and 47 DF,  p-value: 2.893e-09\n"
      ]
     },
     "metadata": {},
     "output_type": "display_data"
    }
   ],
   "source": [
    "# Building two Regression Models:\n",
    "states <- as.data.frame(state.x77[,c(\"Murder\", \"Population\",\n",
    "                                     \"Illiteracy\", \"Income\", \"Frost\")])\n",
    "fit1 <- lm(Murder ~ Population + Illiteracy + Income + Frost,\n",
    "data=states)\n",
    "fit2 <- lm(Murder ~ Population + Illiteracy, data=states)\n",
    "summary(fit1)\n",
    "summary(fit2)"
   ]
  },
  {
   "cell_type": "code",
   "execution_count": 31,
   "metadata": {
    "collapsed": false
   },
   "outputs": [
    {
     "data": {
      "text/html": [
       "<table>\n",
       "<thead><tr><th scope=col>Res.Df</th><th scope=col>RSS</th><th scope=col>Df</th><th scope=col>Sum of Sq</th><th scope=col>F</th><th scope=col>Pr(&gt;F)</th></tr></thead>\n",
       "<tbody>\n",
       "\t<tr><td>47         </td><td>289.2457   </td><td>NA         </td><td>        NA </td><td>         NA</td><td>      NA   </td></tr>\n",
       "\t<tr><td>45         </td><td>289.1672   </td><td> 2         </td><td>0.07850518 </td><td>0.006108462</td><td>0.993911   </td></tr>\n",
       "</tbody>\n",
       "</table>\n"
      ],
      "text/latex": [
       "\\begin{tabular}{r|llllll}\n",
       " Res.Df & RSS & Df & Sum of Sq & F & Pr(>F)\\\\\n",
       "\\hline\n",
       "\t 47          & 289.2457    & NA          &         NA  &          NA &       NA   \\\\\n",
       "\t 45          & 289.1672    &  2          & 0.07850518  & 0.006108462 & 0.993911   \\\\\n",
       "\\end{tabular}\n"
      ],
      "text/markdown": [
       "\n",
       "Res.Df | RSS | Df | Sum of Sq | F | Pr(>F) | \n",
       "|---|---|\n",
       "| 47          | 289.2457    | NA          |         NA  |          NA |       NA    | \n",
       "| 45          | 289.1672    |  2          | 0.07850518  | 0.006108462 | 0.993911    | \n",
       "\n",
       "\n"
      ],
      "text/plain": [
       "  Res.Df RSS      Df Sum of Sq  F           Pr(>F)  \n",
       "1 47     289.2457 NA         NA          NA       NA\n",
       "2 45     289.1672  2 0.07850518 0.006108462 0.993911"
      ]
     },
     "metadata": {},
     "output_type": "display_data"
    }
   ],
   "source": [
    "#Comparing models using anova fit\n",
    "anova(fit2, fit1)"
   ]
  },
  {
   "cell_type": "markdown",
   "metadata": {},
   "source": [
    "Here, model 1 is nested within model 2. The anova() function provides a simultaneous test that Income and Frost add to linear prediction above and beyond Population and Illiteracy. Because the test is nonsignificant (p = .994), we conclude that they don’t add to the linear prediction and we’re justified in dropping them from our model."
   ]
  },
  {
   "cell_type": "code",
   "execution_count": 32,
   "metadata": {
    "collapsed": false
   },
   "outputs": [
    {
     "data": {
      "text/html": [
       "<table>\n",
       "<thead><tr><th></th><th scope=col>df</th><th scope=col>AIC</th></tr></thead>\n",
       "<tbody>\n",
       "\t<tr><th scope=row>fit1</th><td>6       </td><td>241.6429</td></tr>\n",
       "\t<tr><th scope=row>fit2</th><td>4       </td><td>237.6565</td></tr>\n",
       "</tbody>\n",
       "</table>\n"
      ],
      "text/latex": [
       "\\begin{tabular}{r|ll}\n",
       "  & df & AIC\\\\\n",
       "\\hline\n",
       "\tfit1 & 6        & 241.6429\\\\\n",
       "\tfit2 & 4        & 237.6565\\\\\n",
       "\\end{tabular}\n"
      ],
      "text/markdown": [
       "\n",
       "| <!--/--> | df | AIC | \n",
       "|---|---|\n",
       "| fit1 | 6        | 241.6429 | \n",
       "| fit2 | 4        | 237.6565 | \n",
       "\n",
       "\n"
      ],
      "text/plain": [
       "     df AIC     \n",
       "fit1 6  241.6429\n",
       "fit2 4  237.6565"
      ]
     },
     "metadata": {},
     "output_type": "display_data"
    }
   ],
   "source": [
    "AIC(fit1,fit2)"
   ]
  },
  {
   "cell_type": "markdown",
   "metadata": {},
   "source": [
    "The AIC values suggest that the model without Income and Frost is the better model."
   ]
  },
  {
   "cell_type": "markdown",
   "metadata": {},
   "source": [
    "### Variable selection in a Regression Model:\n",
    "\n",
    "Comparing two models is relatively straightforward, but what do you do when there are four, or ten, or a hundred possible models to consider? In this case perform variable selection to keep our models to the minimum.\n",
    "\n",
    "### Stepwise Regression:\n",
    "In stepwise selection, variables are added to or deleted from a model one at a time, until some stopping criterion is reached. For example:\n",
    "* In forward stepwise regression you add predictor variables to the model one at a time, stopping when the addition of variables would no longer improve the model. \n",
    "* In backward stepwise regression, you start with a model that includes all predictor variables, and then delete them one at a time until removing variables would degrade the quality of the model. \n",
    "* In stepwise stepwise regression, you combine the forward and backward stepwise approaches. \n",
    "    * Variables are entered one at a time, but at each step, the variables in the model are reevaluated, and those that don’t contribute to the model are deleted.\n",
    "    * A predictor variable may be added to, and deleted from, a model several times before a final solution is reached.\n",
    "    * The implementation of stepwise regression methods vary by the criteria used to enter or remove variables. \n",
    "    * The stepAIC() function in the MASS package performs stepwise model selection (forward, backward, stepwise) using an exact AIC criterion."
   ]
  },
  {
   "cell_type": "code",
   "execution_count": 33,
   "metadata": {
    "collapsed": true
   },
   "outputs": [],
   "source": [
    "library(MASS)"
   ]
  },
  {
   "cell_type": "code",
   "execution_count": 35,
   "metadata": {
    "collapsed": false
   },
   "outputs": [
    {
     "name": "stdout",
     "output_type": "stream",
     "text": [
      "Start:  AIC=97.75\n",
      "Murder ~ Population + Illiteracy + Income + Frost\n",
      "\n",
      "             Df Sum of Sq    RSS     AIC\n",
      "- Frost       1     0.021 289.19  95.753\n",
      "- Income      1     0.057 289.22  95.759\n",
      "<none>                    289.17  97.749\n",
      "- Population  1    39.238 328.41 102.111\n",
      "- Illiteracy  1   144.264 433.43 115.986\n",
      "\n",
      "Step:  AIC=95.75\n",
      "Murder ~ Population + Illiteracy + Income\n",
      "\n",
      "             Df Sum of Sq    RSS     AIC\n",
      "- Income      1     0.057 289.25  93.763\n",
      "<none>                    289.19  95.753\n",
      "- Population  1    43.658 332.85 100.783\n",
      "- Illiteracy  1   236.196 525.38 123.605\n",
      "\n",
      "Step:  AIC=93.76\n",
      "Murder ~ Population + Illiteracy\n",
      "\n",
      "             Df Sum of Sq    RSS     AIC\n",
      "<none>                    289.25  93.763\n",
      "- Population  1    48.517 337.76  99.516\n",
      "- Illiteracy  1   299.646 588.89 127.311\n"
     ]
    },
    {
     "data": {
      "text/plain": [
       "\n",
       "Call:\n",
       "lm(formula = Murder ~ Population + Illiteracy, data = states)\n",
       "\n",
       "Coefficients:\n",
       "(Intercept)   Population   Illiteracy  \n",
       "  1.6515497    0.0002242    4.0807366  \n"
      ]
     },
     "metadata": {},
     "output_type": "display_data"
    }
   ],
   "source": [
    "#Backward Stepwise selection:\n",
    "fit1 <- lm(Murder ~ Population + Illiteracy + Income + Frost, data=states)\n",
    "stepAIC(fit1, direction=\"backward\")"
   ]
  },
  {
   "cell_type": "markdown",
   "metadata": {},
   "source": [
    "You start with all four predictors in the model. For each step, the AIC column provides the model AIC resulting from the deletion of the variable listed in that row. The AIC value for <none> is the model AIC if no variables are removed. In the first step, Frost is removed, decreasing the AIC from 97.75 to 95.75. In the second step, Income is removed, decreasing the AIC to 93.76. Deleting any more variables would increase the AIC, so the process stops."
   ]
  },
  {
   "cell_type": "code",
   "execution_count": 38,
   "metadata": {
    "collapsed": false
   },
   "outputs": [
    {
     "name": "stdout",
     "output_type": "stream",
     "text": [
      "Start:  AIC=97.75\n",
      "Murder ~ Population + Illiteracy + Income + Frost\n",
      "\n",
      "             Df Sum of Sq    RSS     AIC\n",
      "- Frost       1     0.021 289.19  95.753\n",
      "- Income      1     0.057 289.22  95.759\n",
      "<none>                    289.17  97.749\n",
      "- Population  1    39.238 328.41 102.111\n",
      "- Illiteracy  1   144.264 433.43 115.986\n",
      "\n",
      "Step:  AIC=95.75\n",
      "Murder ~ Population + Illiteracy + Income\n",
      "\n",
      "             Df Sum of Sq    RSS     AIC\n",
      "- Income      1     0.057 289.25  93.763\n",
      "<none>                    289.19  95.753\n",
      "- Population  1    43.658 332.85 100.783\n",
      "- Illiteracy  1   236.196 525.38 123.605\n",
      "\n",
      "Step:  AIC=93.76\n",
      "Murder ~ Population + Illiteracy\n",
      "\n",
      "             Df Sum of Sq    RSS     AIC\n",
      "<none>                    289.25  93.763\n",
      "- Population  1    48.517 337.76  99.516\n",
      "- Illiteracy  1   299.646 588.89 127.311\n"
     ]
    },
    {
     "data": {
      "text/plain": [
       "\n",
       "Call:\n",
       "lm(formula = Murder ~ Population + Illiteracy, data = states)\n",
       "\n",
       "Coefficients:\n",
       "(Intercept)   Population   Illiteracy  \n",
       "  1.6515497    0.0002242    4.0807366  \n"
      ]
     },
     "metadata": {},
     "output_type": "display_data"
    }
   ],
   "source": [
    "#Backward Stepwise selection:\n",
    "fit1 <- lm(Murder ~ Population + Illiteracy + Income + Frost, data=states)\n",
    "stepAIC(fit1, direction=\"backward\")"
   ]
  },
  {
   "cell_type": "code",
   "execution_count": 40,
   "metadata": {
    "collapsed": false
   },
   "outputs": [
    {
     "data": {
      "text/plain": [
       "\n",
       "Call:\n",
       "lm(formula = Murder ~ Illiteracy + Population, data = states)\n",
       "\n",
       "Residuals:\n",
       "    Min      1Q  Median      3Q     Max \n",
       "-4.7652 -1.6561 -0.0898  1.4570  7.6758 \n",
       "\n",
       "Coefficients:\n",
       "             Estimate Std. Error t value Pr(>|t|)    \n",
       "(Intercept) 1.652e+00  8.101e-01   2.039  0.04713 *  \n",
       "Illiteracy  4.081e+00  5.848e-01   6.978 8.83e-09 ***\n",
       "Population  2.242e-04  7.984e-05   2.808  0.00724 ** \n",
       "---\n",
       "Signif. codes:  0 '***' 0.001 '**' 0.01 '*' 0.05 '.' 0.1 ' ' 1\n",
       "\n",
       "Residual standard error: 2.481 on 47 degrees of freedom\n",
       "Multiple R-squared:  0.5668,\tAdjusted R-squared:  0.5484 \n",
       "F-statistic: 30.75 on 2 and 47 DF,  p-value: 2.893e-09\n"
      ]
     },
     "metadata": {},
     "output_type": "display_data"
    }
   ],
   "source": [
    "#Stepwise - Forward selection backward elimination\n",
    "\n",
    "#Null Model\n",
    "noModel <- lm(Murder ~ 1,data = states)\n",
    "\n",
    "#Full Model\n",
    "RegModelFull = lm(Murder ~ ., data = states)\n",
    "\n",
    "#Stepwise - Forward selection backward elimination\n",
    "RegModelStepwise <- stepAIC(noModel, list(lower = formula(noModel),\n",
    "                                         upper = formula(RegModelFull)),\n",
    "                           direction = \"both\", trace = 0)\n",
    "#Model Evaluation:\n",
    "summary(RegModelStepwise)"
   ]
  },
  {
   "cell_type": "markdown",
   "metadata": {},
   "source": [
    "### All Subsets Regression:\n",
    "Stepwise regression is controversial. Although it may find a good model, there’s no guarantee that it will find the best model. This is because not every possible model is evaluated. All Subsets Regression overcomes this limitation.\n",
    "\n",
    "In all subsets regression, every possible model is inspected. The analyst can choose to have all possible results displayed, or ask for the nbest models of each subset size (one] predictor, two predictors, etc.). For example, if nbest=2, the two best one-predictor models are displayed, followed by the two best two-predictor models, followed by the two best three-predictor models, up to a model with all predictors. \n",
    "\n",
    "All subsets regression is performed using the regsubsets() function from the leaps package. You can choose \n",
    "R-squared, Adjusted R-squared, or Mallows Cp statistic as your criterion for reporting “best” models. \n",
    "\n",
    "As you’ve seen, R-squared is the amount of variance accounted for in the response variable by the predictors variables. Adjusted R-squared is similar, but takes into account the number of parameters in the model. R-squared always increases with the addition of predictors. When the number of predictors is large compared to the sample size, this can lead to significant overfitting. The Adjusted R-squared is an attempt to provide a more honest estimate of the population R-squared—one that’s less likely to take advantage of chance variation in the data. The Mallows Cp statistic is also used as a stopping rule in stepwise regression. It has been widely suggested that a good model is one in which the Cp statistic is close to the number of model parameters (including the intercept)."
   ]
  },
  {
   "cell_type": "code",
   "execution_count": 42,
   "metadata": {
    "collapsed": false
   },
   "outputs": [
    {
     "name": "stderr",
     "output_type": "stream",
     "text": [
      "Warning message:\n",
      "\"package 'leaps' was built under R version 3.4.1\""
     ]
    }
   ],
   "source": [
    "library(leaps)"
   ]
  },
  {
   "cell_type": "code",
   "execution_count": 49,
   "metadata": {
    "collapsed": false
   },
   "outputs": [
    {
     "data": {
      "image/png": "[encoded data removed]",
      "text/plain": [
       "plot without title"
      ]
     },
     "metadata": {},
     "output_type": "display_data"
    }
   ],
   "source": [
    "options(repr.plot.width=5, repr.plot.height=5)\n",
    "leaps <-regsubsets(Murder ~ Population + Illiteracy + Income + Frost, data=states, nbest=4)\n",
    "plot(leaps, scale=\"adjr\")"
   ]
  },
  {
   "cell_type": "markdown",
   "metadata": {},
   "source": [
    "Looking at the first row (starting at the bottom), you can see that a model with the intercept and Income has an adjusted R-square of 0.33. A model with the intercept and Population has an adjusted R-square of 0.1. Jumping to the 12th row, you see that a model with the intercept, Population, Illiteracy, and Income has an adjusted R-square of 0.54, whereas one with the intercept, Population, and Illiteracy alone has an adjusted R-square of 0.55. Here you see that a model with fewer predictors has a larger adjusted R-square (something that can’t happen with an unadjusted R-square). The graph suggests that the two-predictor model (Population and Illiteracy) is the best."
   ]
  },
  {
   "cell_type": "code",
   "execution_count": null,
   "metadata": {
    "collapsed": true
   },
   "outputs": [],
   "source": []
  }
 ],
 "metadata": {
  "kernelspec": {
   "display_name": "R",
   "language": "R",
   "name": "ir"
  },
  "language_info": {
   "codemirror_mode": "r",
   "file_extension": ".r",
   "mimetype": "text/x-r-source",
   "name": "R",
   "pygments_lexer": "r",
   "version": "3.4.0"
  }
 },
 "nbformat": 4,
 "nbformat_minor": 2
}
