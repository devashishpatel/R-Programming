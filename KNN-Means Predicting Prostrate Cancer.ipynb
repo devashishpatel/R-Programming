{
 "cells": [
  {
   "cell_type": "markdown",
   "metadata": {},
   "source": [
    "## Objective:\n",
    "Predict the Diagnosis results of Prostrate Cancer using Knn-Means Algorithm"
   ]
  },
  {
   "cell_type": "code",
   "execution_count": 16,
   "metadata": {
    "collapsed": false
   },
   "outputs": [],
   "source": [
    "library(tidyverse)\n",
    "library(class)\n",
    "library(gmodels) #Fpr crosstable() Function"
   ]
  },
  {
   "cell_type": "code",
   "execution_count": 8,
   "metadata": {
    "collapsed": false
   },
   "outputs": [
    {
     "name": "stdout",
     "output_type": "stream",
     "text": [
      "'data.frame':\t100 obs. of  10 variables:\n",
      " $ id               : int  1 2 3 4 5 6 7 8 9 10 ...\n",
      " $ diagnosis_result : chr  \"M\" \"B\" \"M\" \"M\" ...\n",
      " $ radius           : int  23 9 21 14 9 25 16 15 19 25 ...\n",
      " $ texture          : int  12 13 27 16 19 25 26 18 24 11 ...\n",
      " $ perimeter        : int  151 133 130 78 135 83 120 90 88 84 ...\n",
      " $ area             : int  954 1326 1203 386 1297 477 1040 578 520 476 ...\n",
      " $ smoothness       : num  0.143 0.143 0.125 0.07 0.141 0.128 0.095 0.119 0.127 0.119 ...\n",
      " $ compactness      : num  0.278 0.079 0.16 0.284 0.133 0.17 0.109 0.165 0.193 0.24 ...\n",
      " $ symmetry         : num  0.242 0.181 0.207 0.26 0.181 0.209 0.179 0.22 0.235 0.203 ...\n",
      " $ fractal_dimension: num  0.079 0.057 0.06 0.097 0.059 0.076 0.057 0.075 0.074 0.082 ...\n"
     ]
    },
    {
     "data": {
      "text/html": [
       "<table>\n",
       "<thead><tr><th scope=col>id</th><th scope=col>diagnosis_result</th><th scope=col>radius</th><th scope=col>texture</th><th scope=col>perimeter</th><th scope=col>area</th><th scope=col>smoothness</th><th scope=col>compactness</th><th scope=col>symmetry</th><th scope=col>fractal_dimension</th></tr></thead>\n",
       "<tbody>\n",
       "\t<tr><td>1    </td><td>M    </td><td>23   </td><td>12   </td><td>151  </td><td> 954 </td><td>0.143</td><td>0.278</td><td>0.242</td><td>0.079</td></tr>\n",
       "\t<tr><td>2    </td><td>B    </td><td> 9   </td><td>13   </td><td>133  </td><td>1326 </td><td>0.143</td><td>0.079</td><td>0.181</td><td>0.057</td></tr>\n",
       "\t<tr><td>3    </td><td>M    </td><td>21   </td><td>27   </td><td>130  </td><td>1203 </td><td>0.125</td><td>0.160</td><td>0.207</td><td>0.060</td></tr>\n",
       "\t<tr><td>4    </td><td>M    </td><td>14   </td><td>16   </td><td> 78  </td><td> 386 </td><td>0.070</td><td>0.284</td><td>0.260</td><td>0.097</td></tr>\n",
       "\t<tr><td>5    </td><td>M    </td><td> 9   </td><td>19   </td><td>135  </td><td>1297 </td><td>0.141</td><td>0.133</td><td>0.181</td><td>0.059</td></tr>\n",
       "\t<tr><td>6    </td><td>B    </td><td>25   </td><td>25   </td><td> 83  </td><td> 477 </td><td>0.128</td><td>0.170</td><td>0.209</td><td>0.076</td></tr>\n",
       "</tbody>\n",
       "</table>\n"
      ],
      "text/latex": [
       "\\begin{tabular}{r|llllllllll}\n",
       " id & diagnosis\\_result & radius & texture & perimeter & area & smoothness & compactness & symmetry & fractal\\_dimension\\\\\n",
       "\\hline\n",
       "\t 1     & M     & 23    & 12    & 151   &  954  & 0.143 & 0.278 & 0.242 & 0.079\\\\\n",
       "\t 2     & B     &  9    & 13    & 133   & 1326  & 0.143 & 0.079 & 0.181 & 0.057\\\\\n",
       "\t 3     & M     & 21    & 27    & 130   & 1203  & 0.125 & 0.160 & 0.207 & 0.060\\\\\n",
       "\t 4     & M     & 14    & 16    &  78   &  386  & 0.070 & 0.284 & 0.260 & 0.097\\\\\n",
       "\t 5     & M     &  9    & 19    & 135   & 1297  & 0.141 & 0.133 & 0.181 & 0.059\\\\\n",
       "\t 6     & B     & 25    & 25    &  83   &  477  & 0.128 & 0.170 & 0.209 & 0.076\\\\\n",
       "\\end{tabular}\n"
      ],
      "text/markdown": [
       "\n",
       "id | diagnosis_result | radius | texture | perimeter | area | smoothness | compactness | symmetry | fractal_dimension | \n",
       "|---|---|---|---|---|---|\n",
       "| 1     | M     | 23    | 12    | 151   |  954  | 0.143 | 0.278 | 0.242 | 0.079 | \n",
       "| 2     | B     |  9    | 13    | 133   | 1326  | 0.143 | 0.079 | 0.181 | 0.057 | \n",
       "| 3     | M     | 21    | 27    | 130   | 1203  | 0.125 | 0.160 | 0.207 | 0.060 | \n",
       "| 4     | M     | 14    | 16    |  78   |  386  | 0.070 | 0.284 | 0.260 | 0.097 | \n",
       "| 5     | M     |  9    | 19    | 135   | 1297  | 0.141 | 0.133 | 0.181 | 0.059 | \n",
       "| 6     | B     | 25    | 25    |  83   |  477  | 0.128 | 0.170 | 0.209 | 0.076 | \n",
       "\n",
       "\n"
      ],
      "text/plain": [
       "  id diagnosis_result radius texture perimeter area smoothness compactness\n",
       "1 1  M                23     12      151        954 0.143      0.278      \n",
       "2 2  B                 9     13      133       1326 0.143      0.079      \n",
       "3 3  M                21     27      130       1203 0.125      0.160      \n",
       "4 4  M                14     16       78        386 0.070      0.284      \n",
       "5 5  M                 9     19      135       1297 0.141      0.133      \n",
       "6 6  B                25     25       83        477 0.128      0.170      \n",
       "  symmetry fractal_dimension\n",
       "1 0.242    0.079            \n",
       "2 0.181    0.057            \n",
       "3 0.207    0.060            \n",
       "4 0.260    0.097            \n",
       "5 0.181    0.059            \n",
       "6 0.209    0.076            "
      ]
     },
     "metadata": {},
     "output_type": "display_data"
    }
   ],
   "source": [
    "prc <- read.csv(\"Dataset/Prostate_Cancer.csv\",stringsAsFactors = FALSE)\n",
    "str(prc)\n",
    "head(prc)"
   ]
  },
  {
   "cell_type": "code",
   "execution_count": 9,
   "metadata": {
    "collapsed": false
   },
   "outputs": [
    {
     "data": {
      "text/html": [
       "<table>\n",
       "<thead><tr><th scope=col>diagnosis_result</th><th scope=col>n</th></tr></thead>\n",
       "<tbody>\n",
       "\t<tr><td>B </td><td>38</td></tr>\n",
       "\t<tr><td>M </td><td>62</td></tr>\n",
       "</tbody>\n",
       "</table>\n"
      ],
      "text/latex": [
       "\\begin{tabular}{r|ll}\n",
       " diagnosis\\_result & n\\\\\n",
       "\\hline\n",
       "\t B  & 38\\\\\n",
       "\t M  & 62\\\\\n",
       "\\end{tabular}\n"
      ],
      "text/markdown": [
       "\n",
       "diagnosis_result | n | \n",
       "|---|---|\n",
       "| B  | 38 | \n",
       "| M  | 62 | \n",
       "\n",
       "\n"
      ],
      "text/plain": [
       "  diagnosis_result n \n",
       "1 B                38\n",
       "2 M                62"
      ]
     },
     "metadata": {},
     "output_type": "display_data"
    }
   ],
   "source": [
    "prc <- prc[-1] #Removes the first column which is an Identifier\n",
    "\n",
    "prc %>%\n",
    "  count(diagnosis_result)"
   ]
  },
  {
   "cell_type": "code",
   "execution_count": 11,
   "metadata": {
    "collapsed": false
   },
   "outputs": [
    {
     "data": {
      "text/plain": [
       "   Min. 1st Qu.  Median    Mean 3rd Qu.    Max. \n",
       " 0.0000  0.1875  0.5000  0.4906  0.7500  1.0000 "
      ]
     },
     "metadata": {},
     "output_type": "display_data"
    },
    {
     "data": {
      "text/html": [
       "<table>\n",
       "<thead><tr><th scope=col>radius</th><th scope=col>texture</th><th scope=col>perimeter</th><th scope=col>area</th><th scope=col>smoothness</th><th scope=col>compactness</th><th scope=col>symmetry</th><th scope=col>fractal_dimension</th></tr></thead>\n",
       "<tbody>\n",
       "\t<tr><td>0.8750    </td><td>0.0625    </td><td>0.8250000 </td><td>0.4486874 </td><td>1.0000000 </td><td>0.7817590 </td><td>0.6331361 </td><td>0.59090909</td></tr>\n",
       "\t<tr><td>0.0000    </td><td>0.1250    </td><td>0.6750000 </td><td>0.6706444 </td><td>1.0000000 </td><td>0.1335505 </td><td>0.2721893 </td><td>0.09090909</td></tr>\n",
       "\t<tr><td>0.7500    </td><td>1.0000    </td><td>0.6500000 </td><td>0.5972554 </td><td>0.7534247 </td><td>0.3973941 </td><td>0.4260355 </td><td>0.15909091</td></tr>\n",
       "\t<tr><td>0.3125    </td><td>0.3125    </td><td>0.2166667 </td><td>0.1097852 </td><td>0.0000000 </td><td>0.8013029 </td><td>0.7396450 </td><td>1.00000000</td></tr>\n",
       "\t<tr><td>0.0000    </td><td>0.5000    </td><td>0.6916667 </td><td>0.6533413 </td><td>0.9726027 </td><td>0.3094463 </td><td>0.2721893 </td><td>0.13636364</td></tr>\n",
       "\t<tr><td>1.0000    </td><td>0.8750    </td><td>0.2583333 </td><td>0.1640811 </td><td>0.7945205 </td><td>0.4299674 </td><td>0.4378698 </td><td>0.52272727</td></tr>\n",
       "</tbody>\n",
       "</table>\n"
      ],
      "text/latex": [
       "\\begin{tabular}{r|llllllll}\n",
       " radius & texture & perimeter & area & smoothness & compactness & symmetry & fractal\\_dimension\\\\\n",
       "\\hline\n",
       "\t 0.8750     & 0.0625     & 0.8250000  & 0.4486874  & 1.0000000  & 0.7817590  & 0.6331361  & 0.59090909\\\\\n",
       "\t 0.0000     & 0.1250     & 0.6750000  & 0.6706444  & 1.0000000  & 0.1335505  & 0.2721893  & 0.09090909\\\\\n",
       "\t 0.7500     & 1.0000     & 0.6500000  & 0.5972554  & 0.7534247  & 0.3973941  & 0.4260355  & 0.15909091\\\\\n",
       "\t 0.3125     & 0.3125     & 0.2166667  & 0.1097852  & 0.0000000  & 0.8013029  & 0.7396450  & 1.00000000\\\\\n",
       "\t 0.0000     & 0.5000     & 0.6916667  & 0.6533413  & 0.9726027  & 0.3094463  & 0.2721893  & 0.13636364\\\\\n",
       "\t 1.0000     & 0.8750     & 0.2583333  & 0.1640811  & 0.7945205  & 0.4299674  & 0.4378698  & 0.52272727\\\\\n",
       "\\end{tabular}\n"
      ],
      "text/markdown": [
       "\n",
       "radius | texture | perimeter | area | smoothness | compactness | symmetry | fractal_dimension | \n",
       "|---|---|---|---|---|---|\n",
       "| 0.8750     | 0.0625     | 0.8250000  | 0.4486874  | 1.0000000  | 0.7817590  | 0.6331361  | 0.59090909 | \n",
       "| 0.0000     | 0.1250     | 0.6750000  | 0.6706444  | 1.0000000  | 0.1335505  | 0.2721893  | 0.09090909 | \n",
       "| 0.7500     | 1.0000     | 0.6500000  | 0.5972554  | 0.7534247  | 0.3973941  | 0.4260355  | 0.15909091 | \n",
       "| 0.3125     | 0.3125     | 0.2166667  | 0.1097852  | 0.0000000  | 0.8013029  | 0.7396450  | 1.00000000 | \n",
       "| 0.0000     | 0.5000     | 0.6916667  | 0.6533413  | 0.9726027  | 0.3094463  | 0.2721893  | 0.13636364 | \n",
       "| 1.0000     | 0.8750     | 0.2583333  | 0.1640811  | 0.7945205  | 0.4299674  | 0.4378698  | 0.52272727 | \n",
       "\n",
       "\n"
      ],
      "text/plain": [
       "  radius texture perimeter area      smoothness compactness symmetry \n",
       "1 0.8750 0.0625  0.8250000 0.4486874 1.0000000  0.7817590   0.6331361\n",
       "2 0.0000 0.1250  0.6750000 0.6706444 1.0000000  0.1335505   0.2721893\n",
       "3 0.7500 1.0000  0.6500000 0.5972554 0.7534247  0.3973941   0.4260355\n",
       "4 0.3125 0.3125  0.2166667 0.1097852 0.0000000  0.8013029   0.7396450\n",
       "5 0.0000 0.5000  0.6916667 0.6533413 0.9726027  0.3094463   0.2721893\n",
       "6 1.0000 0.8750  0.2583333 0.1640811 0.7945205  0.4299674   0.4378698\n",
       "  fractal_dimension\n",
       "1 0.59090909       \n",
       "2 0.09090909       \n",
       "3 0.15909091       \n",
       "4 1.00000000       \n",
       "5 0.13636364       \n",
       "6 0.52272727       "
      ]
     },
     "metadata": {},
     "output_type": "display_data"
    }
   ],
   "source": [
    "#Normalising the Numeric variables so that all values are between 0 and 1:\n",
    "normalize <- function(x) {\n",
    "  return ((x-min(x))/(max(x)-min(x))  )\n",
    "}\n",
    "prc_n <- as.data.frame(lapply(prc[2:9],normalize)) \n",
    "summary(prc_n$radius)\n",
    "head(prc_n)"
   ]
  },
  {
   "cell_type": "code",
   "execution_count": 12,
   "metadata": {
    "collapsed": true
   },
   "outputs": [],
   "source": [
    "#Creating the train and test data sets\n",
    "prc_train <- prc_n[1:65,]\n",
    "prc_test <- prc_n[66:100,]\n",
    "\n",
    "#Takes the diagnosis factor in the column 1 and stores separately for classification\n",
    "prc_train_labels <- prc[1:65,1]\n",
    "prc_test_labels <- prc[66:100,1]"
   ]
  },
  {
   "cell_type": "code",
   "execution_count": 13,
   "metadata": {
    "collapsed": true
   },
   "outputs": [],
   "source": [
    "#Running the Knn function:\n",
    "prc_test_pred <- knn(train = prc_train, test = prc_test,cl = prc_train_labels, k=10)\n",
    "#Note: k value is usually sqrt of the total number of observations."
   ]
  },
  {
   "cell_type": "code",
   "execution_count": 17,
   "metadata": {
    "collapsed": false
   },
   "outputs": [
    {
     "name": "stdout",
     "output_type": "stream",
     "text": [
      "\n",
      " \n",
      "   Cell Contents\n",
      "|-------------------------|\n",
      "|                       N |\n",
      "| Chi-square contribution |\n",
      "|           N / Row Total |\n",
      "|           N / Col Total |\n",
      "|         N / Table Total |\n",
      "|-------------------------|\n",
      "\n",
      " \n",
      "Total Observations in Table:  35 \n",
      "\n",
      " \n",
      "                | prc_test_pred \n",
      "prc_test_labels |         B |         M | Row Total | \n",
      "----------------|-----------|-----------|-----------|\n",
      "              B |         7 |        12 |        19 | \n",
      "                |     2.695 |     0.674 |           | \n",
      "                |     0.368 |     0.632 |     0.543 | \n",
      "                |     1.000 |     0.429 |           | \n",
      "                |     0.200 |     0.343 |           | \n",
      "----------------|-----------|-----------|-----------|\n",
      "              M |         0 |        16 |        16 | \n",
      "                |     3.200 |     0.800 |           | \n",
      "                |     0.000 |     1.000 |     0.457 | \n",
      "                |     0.000 |     0.571 |           | \n",
      "                |     0.000 |     0.457 |           | \n",
      "----------------|-----------|-----------|-----------|\n",
      "   Column Total |         7 |        28 |        35 | \n",
      "                |     0.200 |     0.800 |           | \n",
      "----------------|-----------|-----------|-----------|\n",
      "\n",
      " \n"
     ]
    }
   ],
   "source": [
    "#Evaluating model performance:\n",
    "CrossTable(x = prc_test_labels , y = prc_test_pred , chisq = FALSE)"
   ]
  },
  {
   "cell_type": "code",
   "execution_count": null,
   "metadata": {
    "collapsed": true
   },
   "outputs": [],
   "source": []
  }
 ],
 "metadata": {
  "kernelspec": {
   "display_name": "R",
   "language": "R",
   "name": "ir"
  },
  "language_info": {
   "codemirror_mode": "r",
   "file_extension": ".r",
   "mimetype": "text/x-r-source",
   "name": "R",
   "pygments_lexer": "r",
   "version": "3.4.0"
  }
 },
 "nbformat": 4,
 "nbformat_minor": 2
}
